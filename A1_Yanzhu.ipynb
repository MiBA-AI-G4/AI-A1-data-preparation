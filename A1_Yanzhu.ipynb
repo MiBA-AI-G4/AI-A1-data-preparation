{
  "cells": [
    {
      "cell_type": "markdown",
      "metadata": {
        "id": "view-in-github",
        "colab_type": "text"
      },
      "source": [
        "<a href=\"https://colab.research.google.com/github/MiBA-AI-G4/AI-A1-data-preparation/blob/main/A1_Yanzhu.ipynb\" target=\"_parent\"><img src=\"https://colab.research.google.com/assets/colab-badge.svg\" alt=\"Open In Colab\"/></a>"
      ]
    },
    {
      "cell_type": "markdown",
      "metadata": {
        "deletable": false,
        "editable": false,
        "id": "1_t4V9bnt-hB",
        "nbgrader": {
          "cell_type": "markdown",
          "checksum": "170d0196a91de492e5c65c198255c57f",
          "grade": false,
          "grade_id": "cell-e911fa75d4ae6ea9",
          "locked": true,
          "schema_version": 3,
          "solution": false,
          "task": false
        }
      },
      "source": [
        "\n",
        "# Assignment 1: Sci-Kit Learn machine learning preprocessing pipeline\n",
        "\n",
        "This notebook contains a set of exercises that will guide you through the different steps of this assignment. Solutions must be code-based, _i.e._ hard-coded or manually computed results will not be accepted. Remember to write your solutions to each exercise in the dedicated cells and not modify or remove the test cells. When completing all the exercises submit this same notebook back to Moodle in **.ipynb** format.\n",
        "\n",
        "<div class=\"alert alert-success\">\n",
        "\n",
        "<b>About the datasets used in this assignment</b>\n",
        "\n",
        "<u>Context</u>\n",
        "\n",
        "Superheroes have been in popular culture for a long time, and now more than ever. Since its creation, superheroes have not been diverse, but this is changing rapidly. The two datasets aim to provide an overview of heroes and their physical and power characteristics, helping curious people to identify trends and patterns. In this case, we want to understand how physical attributes and powers define superheroes' alignment (superhero, supervillain).\n",
        "\n",
        "<u>Content</u>\n",
        "    \n",
        "The columns included in both datasets are:\n",
        "- **Dataset part 1**: Name, Gender, Eye color, Race, Hair color, Height, Publisher, Skin color, Alignment, Weight,Has Superpowers, Power Level, Intelligence Level\n",
        "- **Dataset part 2**: Previous columns and, Agility, Accelerated Healing, Lantern Power Ring, Dimensional Awareness, Cold Resistance, Durability, Stealth, Energy Absorption, Flight, Danger Sense, Underwater breathing, Marksmanship, Weapons Master, Power Augmentation, Animal Attributes, Longevity, Intelligence, Super Strength, Cryokinesis, Telepathy, Energy Armor, Energy Blasts, Duplication, Size Changing, Density Control, Stamina, Astral Travel,Audio Control, Dexterity, Omnitrix, Super Speed, Possession, Animal Oriented Powers, Weapon-based Powers, Electrokinesis, Darkforce Manipulation, Death Touch, Teleportation, Enhanced Senses, Telekinesis, Energy Beams, Magic, Hyperkinesis, Jump, Clairvoyance, Dimensional Travel, Power Sense, Shapeshifting, Peak Human Condition, Immortality, Camouflage, Element Control, Phasing, Astral Projection, Electrical Transport, Fire Control,Projection, Summoning, Enhanced Memory, Reflexes, Invulnerability, Energy Constructs, Force Fields, Self-Sustenance ,Anti-Gravity, Empathy, Power Nullifier, Radiation Control, Psionic Powers, Elasticity, Substance Secretion, Elemental Transmogrification, Technopath/Cyberpath, Photographic Reflexes, Seismic Power, Animation, Precognition, Mind Control, Fire Resistance, Power Absorption, Enhanced Hearing, Nova Force, Insanity, Hypnokinesis, Animal Control, Natural Armor, Intangibility, Enhanced Sight, Molecular Manipulation, Heat Generation, Adaptation, Gliding, Power Suit, Mind Blast, Probability Manipulation, Gravity Control, Regeneration, Light Control, Echolocation, Levitation, Toxin and Disease Control, Banish, Energy Manipulation, Heat Resistance, Natural Weapons, Time Travel, Enhanced Smell, Illusions, Thirstokinesis, Hair Manipulation, Illumination, Omnipotent, Cloaking, Changing Armor, Power Cosmic, Biokinesis, Water Control, Radiation Immunity, Vision - Telescopic, Toxin and Disease Resistance, Spatial Awareness, Energy Resistance, Telepathy Resistance, Molecular Combustion, Omnilingualism, Portal Creation, Magnetism, Mind Control Resistance, Plant Control, Sonar, Sonic Scream, Time Manipulation, Enhanced Touch, Magic Resistance, Invisibility, Sub-Mariner, Radiation Absorption, Intuitive aptitude, Vision - Microscopic, Melting, Wind Control, Super Breath, Wallcrawling, Vision - Night, Vision - Infrared, Grim Reaping, Matter Absorption, The Force, Resurrection, Terrakinesis, Vision - Heat, Vitakinesis, Radar Sense, Qwardian Power Ring, Weather Control, Vision - X-Ray, Vision - Thermal, Web Creation, Reality Warping, Odin Force, Symbiote Costume, Speed Force, Phoenix Force, Molecular Dissipation, Vision - Cryo, Omnipresent, Omniscient.\n",
        "\n",
        "Column names are self-explanatory. Physical attributes are numerical or categorical, while superpowers are dummy (Onehot) variables.\n",
        "    \n",
        " <u>Inspiration</u>\n",
        "\n",
        "What are the characteristics of your favorite superheroes? Are these characteristics affecting superheroes' alignment? Let's put some light on this important business question.\n",
        "\n",
        "</div>\n",
        "\n",
        "<div class=\"alert alert-danger\"><b>Submission deadline:</b> Friday, October 18th, 23:55</div>\n"
      ]
    },
    {
      "cell_type": "code",
      "execution_count": 7,
      "metadata": {
        "ExecuteTime": {
          "end_time": "2024-09-25T16:13:27.508510Z",
          "start_time": "2024-09-25T16:13:27.037656Z"
        },
        "deletable": false,
        "editable": false,
        "id": "1gbj1gyT16vl",
        "nbgrader": {
          "cell_type": "code",
          "checksum": "d73035e0b260736f184195ad45bc0191",
          "grade": false,
          "grade_id": "cell-0fcbc57512e78927",
          "locked": true,
          "schema_version": 3,
          "solution": false,
          "task": false
        }
      },
      "outputs": [],
      "source": [
        "# DO NOT MODIFY NOR ADD CODE TO THIS CELL\n",
        "import pandas as pd\n",
        "from sklearn import set_config\n",
        "\n",
        "set_config(transform_output=\"pandas\")\n",
        "\n",
        "df = pd.read_csv('https://raw.githubusercontent.com/jnin/information-systems/refs/heads/main/data/superheroes_%20physical_traits.csv')"
      ]
    },
    {
      "cell_type": "markdown",
      "metadata": {
        "deletable": false,
        "editable": false,
        "nbgrader": {
          "cell_type": "markdown",
          "checksum": "9fc830f80040b858db07c4d6e8404cb1",
          "grade": false,
          "grade_id": "cell-960ed6121c802915",
          "locked": true,
          "schema_version": 3,
          "solution": false,
          "task": false
        },
        "id": "cY8NKHMWBQZV"
      },
      "source": [
        "<div class=\"alert alert-info\"><b>Exercise 1: Creating the Feature Matrix and Target Array</b>\n",
        "\n",
        "Write the code to create the feature matrix ```X``` and the target array ```y``` from the dataframe ```df```. When creating ```X```, make sure to drop or ignore the irrelevant columns: ```['Name', 'Publisher']```.\n",
        "\n",
        "The target variable for this problem is ```Alignment```.\n",
        "\n",
        "<br><i>[0.5 points]</i>\n",
        "</div>\n",
        "<div class=\"alert alert-warning\">\n",
        "    \n",
        "Python is case-sensitive, so ensure your code matches the required capitalization.\n",
        "Do **not** download the dataset manually. Instead, run the previous cell to load the data directly from the provided link.\n",
        "\n",
        "</div>"
      ]
    },
    {
      "cell_type": "code",
      "execution_count": 8,
      "metadata": {
        "ExecuteTime": {
          "end_time": "2024-09-25T16:13:27.515069Z",
          "start_time": "2024-09-25T16:13:27.512068Z"
        },
        "deletable": false,
        "id": "rnxOTovpEqpu",
        "nbgrader": {
          "cell_type": "code",
          "checksum": "3416f03882927817c5373de161fb4a59",
          "grade": false,
          "grade_id": "ex1",
          "locked": false,
          "schema_version": 3,
          "solution": true,
          "task": false
        },
        "colab": {
          "base_uri": "https://localhost:8080/"
        },
        "outputId": "d20d30ce-75b8-4446-e7dd-727152bdbbc0"
      },
      "outputs": [
        {
          "output_type": "stream",
          "name": "stdout",
          "text": [
            "  Gender Eye color               Race Hair color  Height Skin color  Weight  \\\n",
            "0   Male    yellow              Human    No Hair   203.0        NaN   441.0   \n",
            "1   Male      blue      Icthyo Sapien    No Hair   191.0       blue    65.0   \n",
            "2   Male      blue            Ungaran    No Hair   185.0        red    90.0   \n",
            "3   Male     green  Human / Radiation    No Hair   203.0        NaN   441.0   \n",
            "4   Male      blue      Cosmic Entity      Black   -99.0        NaN   -99.0   \n",
            "\n",
            "   Has Superpowers         Power Level    Intelligence Level  \n",
            "0            False  Extremely Powerful          Super-Genius  \n",
            "1             True       Below Average  Average Intelligence  \n",
            "2             True             Average      Low Intelligence  \n",
            "3            False  Extremely Powerful                 Smart  \n",
            "4            False  Extremely Powerful                Genius  \n",
            "0    good\n",
            "1    good\n",
            "2    good\n",
            "3     bad\n",
            "4     bad\n",
            "Name: Alignment, dtype: object\n"
          ]
        }
      ],
      "source": [
        "# Drop/ignore the irrelevant columns\n",
        "X = df.drop(columns = ['Name', 'Publisher', 'Alignment'])\n",
        "\n",
        "# Add the target variable\n",
        "y = df['Alignment']\n",
        "\n",
        "print(X.head())\n",
        "print(y.head())"
      ]
    },
    {
      "cell_type": "code",
      "execution_count": null,
      "metadata": {
        "ExecuteTime": {
          "end_time": "2024-09-25T16:13:27.577276Z",
          "start_time": "2024-09-25T16:13:27.575072Z"
        },
        "deletable": false,
        "editable": false,
        "nbgrader": {
          "cell_type": "code",
          "checksum": "68ecdd3b3d805baa5acee240c7c43b34",
          "grade": true,
          "grade_id": "test1_1",
          "locked": true,
          "points": 0.25,
          "schema_version": 3,
          "solution": false,
          "task": false
        },
        "id": "mQYGKjpvBQZV"
      },
      "outputs": [],
      "source": [
        "# LEAVE BLANK"
      ]
    },
    {
      "cell_type": "code",
      "execution_count": null,
      "metadata": {
        "ExecuteTime": {
          "end_time": "2024-09-25T16:13:27.676729Z",
          "start_time": "2024-09-25T16:13:27.620311Z"
        },
        "deletable": false,
        "editable": false,
        "jupyter": {
          "outputs_hidden": false
        },
        "nbgrader": {
          "cell_type": "code",
          "checksum": "52885fcba97b2dc1b6f18131fde36661",
          "grade": true,
          "grade_id": "test1_2",
          "locked": true,
          "points": 0.25,
          "schema_version": 3,
          "solution": false,
          "task": false
        },
        "id": "GGbn3MxpBQZW"
      },
      "outputs": [],
      "source": [
        "# LEAVE BLANK"
      ]
    },
    {
      "cell_type": "markdown",
      "metadata": {
        "deletable": false,
        "editable": false,
        "nbgrader": {
          "cell_type": "markdown",
          "checksum": "86da2e763cc281e40839150d05cf4fce",
          "grade": false,
          "grade_id": "cell-a6f3b25eae9b50da",
          "locked": true,
          "schema_version": 3,
          "solution": false,
          "task": false
        },
        "id": "Fn72934bBQZW"
      },
      "source": [
        "<div class=\"alert alert-info\"><b>Exercise 2: Imputing Missing Values </b>\n",
        "\n",
        "The first step in our preprocessing routine is to handle missing values in the feature matrix ```X```. Write the code to instantiate a ```SimpleImputer``` with a ```most_frequent``` strategy, naming it ```imputer```. Then, test the imputer transforming ```X```, and store the transformed data in a new DataFrame called ```X_imputed```.\n",
        "\n",
        "<br><i>[0.5 points]</i>\n",
        "</div>\n"
      ]
    },
    {
      "cell_type": "code",
      "execution_count": 9,
      "metadata": {
        "ExecuteTime": {
          "end_time": "2024-09-25T16:13:27.695074Z",
          "start_time": "2024-09-25T16:13:27.690303Z"
        },
        "deletable": false,
        "nbgrader": {
          "cell_type": "code",
          "checksum": "e312a6da82f8c4bc37df98d9182e9662",
          "grade": false,
          "grade_id": "ex2",
          "locked": false,
          "schema_version": 3,
          "solution": true,
          "task": false
        },
        "colab": {
          "base_uri": "https://localhost:8080/"
        },
        "id": "4ze2ap7gBQZW",
        "outputId": "663d037c-c09a-47c3-f81f-4267c42f228d"
      },
      "outputs": [
        {
          "output_type": "stream",
          "name": "stdout",
          "text": [
            "  Gender Eye color               Race Hair color Height Skin color Weight  \\\n",
            "0   Male    yellow              Human    No Hair  203.0      green  441.0   \n",
            "1   Male      blue      Icthyo Sapien    No Hair  191.0       blue   65.0   \n",
            "2   Male      blue            Ungaran    No Hair  185.0        red   90.0   \n",
            "3   Male     green  Human / Radiation    No Hair  203.0      green  441.0   \n",
            "4   Male      blue      Cosmic Entity      Black  -99.0      green  -99.0   \n",
            "\n",
            "  Has Superpowers         Power Level    Intelligence Level  \n",
            "0           False  Extremely Powerful          Super-Genius  \n",
            "1            True       Below Average  Average Intelligence  \n",
            "2            True             Average      Low Intelligence  \n",
            "3           False  Extremely Powerful                 Smart  \n",
            "4           False  Extremely Powerful                Genius  \n"
          ]
        }
      ],
      "source": [
        "from sklearn.impute import SimpleImputer\n",
        "imputer = SimpleImputer(strategy = 'most_frequent')\n",
        "\n",
        "# Fit ad transform X\n",
        "X_imputed = imputer.fit_transform(X)\n",
        "\n",
        "# Store the transformed data in a new df\n",
        "X_imputed = pd.DataFrame(X_imputed, columns=X.columns)\n",
        "\n",
        "print(X_imputed.head())"
      ]
    },
    {
      "cell_type": "code",
      "execution_count": null,
      "metadata": {
        "ExecuteTime": {
          "end_time": "2024-09-25T16:13:27.735707Z",
          "start_time": "2024-09-25T16:13:27.733506Z"
        },
        "deletable": false,
        "editable": false,
        "nbgrader": {
          "cell_type": "code",
          "checksum": "dce4ce98b9aa0e83a8639da4e094c460",
          "grade": true,
          "grade_id": "test2_1",
          "locked": true,
          "points": 0.25,
          "schema_version": 3,
          "solution": false,
          "task": false
        },
        "id": "KJq-BHe9BQZW"
      },
      "outputs": [],
      "source": [
        "# LEAVE BLANK"
      ]
    },
    {
      "cell_type": "code",
      "execution_count": null,
      "metadata": {
        "ExecuteTime": {
          "end_time": "2024-09-25T16:13:27.781155Z",
          "start_time": "2024-09-25T16:13:27.778626Z"
        },
        "deletable": false,
        "editable": false,
        "nbgrader": {
          "cell_type": "code",
          "checksum": "1475602122f5703ca985c52402000b8d",
          "grade": true,
          "grade_id": "test2_2",
          "locked": true,
          "points": 0.25,
          "schema_version": 3,
          "solution": false,
          "task": false
        },
        "id": "pv0iVTeaBQZW"
      },
      "outputs": [],
      "source": [
        "# LEAVE BLANK"
      ]
    },
    {
      "cell_type": "markdown",
      "metadata": {
        "deletable": false,
        "editable": false,
        "id": "evERSqB9MPid",
        "nbgrader": {
          "cell_type": "markdown",
          "checksum": "f4fd568cc7672b2e00f832744a562e1d",
          "grade": false,
          "grade_id": "cell-c7c37aaa2f33b36",
          "locked": true,
          "schema_version": 3,
          "solution": false,
          "task": false
        }
      },
      "source": [
        "<div class=\"alert alert-info\"><b>Exercise 3: Encoding Categorical Features</b>\n",
        "\n",
        "Now that our dataset is free of missing values, let's handle the categorical columns. Create a `OneHotEncoder` object named `one_hot_encoder`. Next, create a DataFrame called `X_categorical` containing the following columns from `X_imputed`: `['Gender', 'Eye color', 'Race', 'Hair color', 'Skin color']`.\n",
        "\n",
        "Test the encoder by transforming the features of `X_categorical`, and store the transformed data in a new DataFrame named `X_categorical_encoded`.\n",
        "\n",
        "<br><i>[0.75 points]</i>\n",
        "</div>"
      ]
    },
    {
      "cell_type": "code",
      "execution_count": 10,
      "metadata": {
        "ExecuteTime": {
          "end_time": "2024-09-25T16:13:27.833244Z",
          "start_time": "2024-09-25T16:13:27.825751Z"
        },
        "deletable": false,
        "nbgrader": {
          "cell_type": "code",
          "checksum": "69b315830f2239f6d81c0964227610ff",
          "grade": false,
          "grade_id": "ex3",
          "locked": false,
          "schema_version": 3,
          "solution": true,
          "task": false
        },
        "colab": {
          "base_uri": "https://localhost:8080/"
        },
        "id": "DVuqxq4cBQZW",
        "outputId": "941cbb2d-63d4-47cb-f055-9c621871572d"
      },
      "outputs": [
        {
          "output_type": "stream",
          "name": "stdout",
          "text": [
            "   Gender_Female  Gender_Male  Eye color_amber  Eye color_black  \\\n",
            "0            0.0          1.0              0.0              0.0   \n",
            "1            0.0          1.0              0.0              0.0   \n",
            "2            0.0          1.0              0.0              0.0   \n",
            "3            0.0          1.0              0.0              0.0   \n",
            "4            0.0          1.0              0.0              0.0   \n",
            "\n",
            "   Eye color_blue  Eye color_blue / white  Eye color_bown  Eye color_brown  \\\n",
            "0             0.0                     0.0             0.0              0.0   \n",
            "1             1.0                     0.0             0.0              0.0   \n",
            "2             1.0                     0.0             0.0              0.0   \n",
            "3             0.0                     0.0             0.0              0.0   \n",
            "4             1.0                     0.0             0.0              0.0   \n",
            "\n",
            "   Eye color_gold  Eye color_green  ...  Skin color_grey  Skin color_orange  \\\n",
            "0             0.0              0.0  ...              0.0                0.0   \n",
            "1             0.0              0.0  ...              0.0                0.0   \n",
            "2             0.0              0.0  ...              0.0                0.0   \n",
            "3             0.0              1.0  ...              0.0                0.0   \n",
            "4             0.0              0.0  ...              0.0                0.0   \n",
            "\n",
            "   Skin color_orange / white  Skin color_pink  Skin color_purple  \\\n",
            "0                        0.0              0.0                0.0   \n",
            "1                        0.0              0.0                0.0   \n",
            "2                        0.0              0.0                0.0   \n",
            "3                        0.0              0.0                0.0   \n",
            "4                        0.0              0.0                0.0   \n",
            "\n",
            "   Skin color_red  Skin color_red / black  Skin color_silver  \\\n",
            "0             0.0                     0.0                0.0   \n",
            "1             0.0                     0.0                0.0   \n",
            "2             1.0                     0.0                0.0   \n",
            "3             0.0                     0.0                0.0   \n",
            "4             0.0                     0.0                0.0   \n",
            "\n",
            "   Skin color_white  Skin color_yellow  \n",
            "0               0.0                0.0  \n",
            "1               0.0                0.0  \n",
            "2               0.0                0.0  \n",
            "3               0.0                0.0  \n",
            "4               0.0                0.0  \n",
            "\n",
            "[5 rows x 130 columns]\n"
          ]
        }
      ],
      "source": [
        "from sklearn.preprocessing import OneHotEncoder\n",
        "\n",
        "# create a df containing the requested columns from X_computed\n",
        "X_categorical = X_imputed[['Gender', 'Eye color', 'Race', 'Hair color', 'Skin color']]\n",
        "\n",
        "one_hot_encoder = OneHotEncoder(sparse_output=False)\n",
        "\n",
        "# transform the features of X_categorical and store the data\n",
        "X_categorical_encoded = one_hot_encoder.fit_transform(X_categorical)\n",
        "X_categorical_encoded = pd.DataFrame(X_categorical_encoded, columns=one_hot_encoder.get_feature_names_out(X_categorical.columns))\n",
        "\n",
        "print(X_categorical_encoded.head())"
      ]
    },
    {
      "cell_type": "code",
      "execution_count": null,
      "metadata": {
        "ExecuteTime": {
          "end_time": "2024-09-25T16:13:27.876850Z",
          "start_time": "2024-09-25T16:13:27.874663Z"
        },
        "deletable": false,
        "editable": false,
        "nbgrader": {
          "cell_type": "code",
          "checksum": "a75ee900d85728951e8b462c9756e4a3",
          "grade": true,
          "grade_id": "test3_1",
          "locked": true,
          "points": 0.25,
          "schema_version": 3,
          "solution": false,
          "task": false
        },
        "id": "kQzaJSl7BQZW"
      },
      "outputs": [],
      "source": [
        "# LEAVE BLANK"
      ]
    },
    {
      "cell_type": "code",
      "execution_count": null,
      "metadata": {
        "ExecuteTime": {
          "end_time": "2024-09-25T16:13:27.922580Z",
          "start_time": "2024-09-25T16:13:27.919729Z"
        },
        "deletable": false,
        "editable": false,
        "nbgrader": {
          "cell_type": "code",
          "checksum": "d97eb6081c645f993eefea334d79e585",
          "grade": true,
          "grade_id": "test3_2",
          "locked": true,
          "points": 0.25,
          "schema_version": 3,
          "solution": false,
          "task": false
        },
        "id": "ikkw4RjOBQZW"
      },
      "outputs": [],
      "source": [
        "# LEAVE BLANK"
      ]
    },
    {
      "cell_type": "code",
      "execution_count": null,
      "metadata": {
        "ExecuteTime": {
          "end_time": "2024-09-25T16:13:27.967738Z",
          "start_time": "2024-09-25T16:13:27.965682Z"
        },
        "deletable": false,
        "editable": false,
        "nbgrader": {
          "cell_type": "code",
          "checksum": "7313a16a7b9ef1024bde57f253545f3f",
          "grade": true,
          "grade_id": "cell-58b7c490fa3f409b",
          "locked": true,
          "points": 0.25,
          "schema_version": 3,
          "solution": false,
          "task": false
        },
        "id": "g1E1Z0TVBQZW"
      },
      "outputs": [],
      "source": [
        "# LEAVE BLANK"
      ]
    },
    {
      "cell_type": "markdown",
      "metadata": {
        "deletable": false,
        "editable": false,
        "nbgrader": {
          "cell_type": "markdown",
          "checksum": "5e13ece21062726f8d53f029be08cc76",
          "grade": false,
          "grade_id": "cell-ccef3f102806a3a6",
          "locked": true,
          "schema_version": 3,
          "solution": false,
          "task": false
        },
        "id": "L24gtObEBQZW"
      },
      "source": [
        "<div class=\"alert alert-info\"><b>Exercise 4: Encoding Ordinal Features </b>\n",
        "\n",
        "Next, repeat the process for the ordinal features `['Power Level', 'Intelligence Level']`. First, create a new DataFrame called `X_ordinal` containing these two columns. Then, instantiate an `OrdinalEncoder` and name it `ordinal_encoder`.\n",
        "\n",
        "Test the encoder by transforming the `X_ordinal` DataFrame, and store the transformed data in a new DataFrame called `X_ordinal_encoded`.\n",
        "\n",
        "<br><i>[0.75 points]</i>\n",
        "</div>\n",
        "\n",
        "<div class=\"alert alert-warning\">\n",
        "    \n",
        "Consider that the integer values assigned to each label should align with a meaningful interpretation of the label's significance.\n",
        "\n",
        "</div>"
      ]
    },
    {
      "cell_type": "code",
      "execution_count": 11,
      "metadata": {
        "ExecuteTime": {
          "end_time": "2024-09-25T16:13:28.016989Z",
          "start_time": "2024-09-25T16:13:28.013066Z"
        },
        "deletable": false,
        "nbgrader": {
          "cell_type": "code",
          "checksum": "00ef2091bcd0c6ccc4ed66e901f1fff9",
          "grade": false,
          "grade_id": "ex4",
          "locked": false,
          "schema_version": 3,
          "solution": true,
          "task": false
        },
        "colab": {
          "base_uri": "https://localhost:8080/"
        },
        "id": "33SXtyYUBQZW",
        "outputId": "1c8bfdba-8849-43c4-9567-97cec80f9595"
      },
      "outputs": [
        {
          "output_type": "stream",
          "name": "stdout",
          "text": [
            "['Super-Genius' 'Average Intelligence' 'Low Intelligence' 'Smart' 'Genius']\n",
            "   Power Level  Intelligence Level\n",
            "0          4.0                 4.0\n",
            "1          1.0                 1.0\n",
            "2          2.0                 0.0\n",
            "3          4.0                 2.0\n",
            "4          4.0                 3.0\n"
          ]
        }
      ],
      "source": [
        "from sklearn.preprocessing import OrdinalEncoder\n",
        "\n",
        "# Create a new df\n",
        "X_ordinal = df[['Power Level', 'Intelligence Level']]\n",
        "\n",
        "print(X_ordinal['Intelligence Level'].unique())\n",
        "\n",
        "# Define the Oridinal features\n",
        "power_level_order = ['Weak', 'Below Average', 'Average', 'Above Average', 'Extremely Powerful']\n",
        "intelligence_level_order = ['Low Intelligence', 'Average Intelligence', 'Smart', 'Genius', 'Super-Genius']\n",
        "\n",
        "# Instantiate, transform and store\n",
        "ordinal_encoder = OrdinalEncoder(categories=[power_level_order, intelligence_level_order])\n",
        "X_ordinal_encoded = ordinal_encoder.fit_transform(X_ordinal)\n",
        "X_ordinal_encoded = pd.DataFrame(X_ordinal_encoded, columns=['Power Level', 'Intelligence Level'])\n",
        "\n",
        "print(X_ordinal_encoded.head())"
      ]
    },
    {
      "cell_type": "code",
      "execution_count": null,
      "metadata": {
        "ExecuteTime": {
          "end_time": "2024-09-25T16:13:28.061709Z",
          "start_time": "2024-09-25T16:13:28.059398Z"
        },
        "deletable": false,
        "editable": false,
        "nbgrader": {
          "cell_type": "code",
          "checksum": "b17bd4ec4b5f3542195269b854037fab",
          "grade": true,
          "grade_id": "test4_1",
          "locked": true,
          "points": 0.5,
          "schema_version": 3,
          "solution": false,
          "task": false
        },
        "id": "rpK4Pd_4BQZX"
      },
      "outputs": [],
      "source": [
        "# LEAVE BLANK"
      ]
    },
    {
      "cell_type": "code",
      "execution_count": null,
      "metadata": {
        "ExecuteTime": {
          "end_time": "2024-09-25T16:13:28.105577Z",
          "start_time": "2024-09-25T16:13:28.103588Z"
        },
        "deletable": false,
        "editable": false,
        "nbgrader": {
          "cell_type": "code",
          "checksum": "06fbab0612fd581dc99cc8b78ae50153",
          "grade": true,
          "grade_id": "test4_2",
          "locked": true,
          "points": 0.25,
          "schema_version": 3,
          "solution": false,
          "task": false
        },
        "id": "tjJGnxygBQZX"
      },
      "outputs": [],
      "source": [
        "# LEAVE BLANK"
      ]
    },
    {
      "cell_type": "markdown",
      "metadata": {
        "deletable": false,
        "editable": false,
        "nbgrader": {
          "cell_type": "markdown",
          "checksum": "5214ccf8fb8d3d2cb0660a6150dec164",
          "grade": false,
          "grade_id": "cell-9f62321dd9372e29",
          "locked": true,
          "schema_version": 3,
          "solution": false,
          "task": false
        },
        "id": "YJ_NrcEGBQZX"
      },
      "source": [
        "<div class=\"alert alert-info\"><b>Exercise 5: Combining Feature Transformations </b>\n",
        "\n",
        "Now that we have confirmed the transformations for categorical and ordinal columns, let's use a `ColumnTransformer` to apply them in parallel. Instantiate a `ColumnTransformer` named `transformer`, including both the `OneHotEncoder` and `OrdinalEncoder`. Be sure to specify the correct column names for each transformer.\n",
        "\n",
        "Test your `transformer` by applying it to the `X_imputed` DataFrame, and store the transformed data in a new DataFrame called `X_encoded`.\n",
        "\n",
        "<br><i>[1 points]</i>\n",
        "</div>\n"
      ]
    },
    {
      "cell_type": "code",
      "execution_count": 12,
      "metadata": {
        "ExecuteTime": {
          "end_time": "2024-09-25T16:13:28.156684Z",
          "start_time": "2024-09-25T16:13:28.148366Z"
        },
        "deletable": false,
        "nbgrader": {
          "cell_type": "code",
          "checksum": "bb47640b2984de2eac9bddf8c8c891c6",
          "grade": false,
          "grade_id": "ex5",
          "locked": false,
          "schema_version": 3,
          "solution": true,
          "task": false
        },
        "colab": {
          "base_uri": "https://localhost:8080/"
        },
        "id": "w9ydu0FrBQZX",
        "outputId": "09e45f27-f884-4f29-8950-75290eef4793"
      },
      "outputs": [
        {
          "output_type": "stream",
          "name": "stdout",
          "text": [
            "   cat__Gender_Female  cat__Gender_Male  cat__Eye color_amber  \\\n",
            "0                 0.0               1.0                   0.0   \n",
            "1                 0.0               1.0                   0.0   \n",
            "2                 0.0               1.0                   0.0   \n",
            "3                 0.0               1.0                   0.0   \n",
            "4                 0.0               1.0                   0.0   \n",
            "\n",
            "   cat__Eye color_black  cat__Eye color_blue  cat__Eye color_blue / white  \\\n",
            "0                   0.0                  0.0                          0.0   \n",
            "1                   0.0                  1.0                          0.0   \n",
            "2                   0.0                  1.0                          0.0   \n",
            "3                   0.0                  0.0                          0.0   \n",
            "4                   0.0                  1.0                          0.0   \n",
            "\n",
            "   cat__Eye color_bown  cat__Eye color_brown  cat__Eye color_gold  \\\n",
            "0                  0.0                   0.0                  0.0   \n",
            "1                  0.0                   0.0                  0.0   \n",
            "2                  0.0                   0.0                  0.0   \n",
            "3                  0.0                   0.0                  0.0   \n",
            "4                  0.0                   0.0                  0.0   \n",
            "\n",
            "   cat__Eye color_green  ...  cat__Skin color_red  \\\n",
            "0                   0.0  ...                  0.0   \n",
            "1                   0.0  ...                  0.0   \n",
            "2                   0.0  ...                  1.0   \n",
            "3                   1.0  ...                  0.0   \n",
            "4                   0.0  ...                  0.0   \n",
            "\n",
            "   cat__Skin color_red / black  cat__Skin color_silver  cat__Skin color_white  \\\n",
            "0                          0.0                     0.0                    0.0   \n",
            "1                          0.0                     0.0                    0.0   \n",
            "2                          0.0                     0.0                    0.0   \n",
            "3                          0.0                     0.0                    0.0   \n",
            "4                          0.0                     0.0                    0.0   \n",
            "\n",
            "   cat__Skin color_yellow  ord__Power Level  ord__Intelligence Level  \\\n",
            "0                     0.0               4.0                      4.0   \n",
            "1                     0.0               1.0                      1.0   \n",
            "2                     0.0               2.0                      0.0   \n",
            "3                     0.0               4.0                      2.0   \n",
            "4                     0.0               4.0                      3.0   \n",
            "\n",
            "   remainder__Height  remainder__Weight  remainder__Has Superpowers  \n",
            "0              203.0              441.0                       False  \n",
            "1              191.0               65.0                        True  \n",
            "2              185.0               90.0                        True  \n",
            "3              203.0              441.0                       False  \n",
            "4              -99.0              -99.0                       False  \n",
            "\n",
            "[5 rows x 135 columns]\n"
          ]
        }
      ],
      "source": [
        "from sklearn.compose import ColumnTransformer\n",
        "from sklearn.preprocessing import OneHotEncoder, OrdinalEncoder\n",
        "from sklearn.impute import SimpleImputer\n",
        "\n",
        "# Instantiate\n",
        "transformer = ColumnTransformer(\n",
        "    transformers=[\n",
        "        ('cat', OneHotEncoder(sparse_output=False), ['Gender', 'Eye color', 'Race', 'Hair color', 'Skin color']),\n",
        "        ('ord', OrdinalEncoder(categories=[power_level_order, intelligence_level_order]), ['Power Level', 'Intelligence Level'])\n",
        "        ],\n",
        "    remainder='passthrough'\n",
        "                                )\n",
        "\n",
        "X_encoded = transformer.fit_transform(X_imputed)\n",
        "\n",
        "X_encoded = pd.DataFrame(X_encoded)\n",
        "\n",
        "print(X_encoded.head())"
      ]
    },
    {
      "cell_type": "code",
      "execution_count": null,
      "metadata": {
        "ExecuteTime": {
          "end_time": "2024-09-25T16:13:28.201986Z",
          "start_time": "2024-09-25T16:13:28.197666Z"
        },
        "deletable": false,
        "editable": false,
        "jupyter": {
          "outputs_hidden": false
        },
        "nbgrader": {
          "cell_type": "code",
          "checksum": "68c62ff4aa3f916e679f67af0307de91",
          "grade": true,
          "grade_id": "test5_1",
          "locked": true,
          "points": 0.4,
          "schema_version": 3,
          "solution": false,
          "task": false
        },
        "id": "LRHhFiwmBQZX"
      },
      "outputs": [],
      "source": [
        "# LEAVE BLANK"
      ]
    },
    {
      "cell_type": "code",
      "execution_count": null,
      "metadata": {
        "ExecuteTime": {
          "end_time": "2024-09-25T16:13:28.248253Z",
          "start_time": "2024-09-25T16:13:28.246250Z"
        },
        "deletable": false,
        "editable": false,
        "nbgrader": {
          "cell_type": "code",
          "checksum": "f9ae67684e9c7510e7a7547538d2db3c",
          "grade": true,
          "grade_id": "test5_2",
          "locked": true,
          "points": 0.2,
          "schema_version": 3,
          "solution": false,
          "task": false
        },
        "id": "mtWYW6xFBQZX"
      },
      "outputs": [],
      "source": [
        "# LEAVE BLANK"
      ]
    },
    {
      "cell_type": "code",
      "execution_count": null,
      "metadata": {
        "ExecuteTime": {
          "end_time": "2024-09-25T16:13:28.308861Z",
          "start_time": "2024-09-25T16:13:28.298435Z"
        },
        "deletable": false,
        "editable": false,
        "nbgrader": {
          "cell_type": "code",
          "checksum": "daa0c93065bc11fd0c17de0f3fd694af",
          "grade": true,
          "grade_id": "test5_3",
          "locked": true,
          "points": 0.4,
          "schema_version": 3,
          "solution": false,
          "task": false
        },
        "id": "z2cebScgBQZX"
      },
      "outputs": [],
      "source": [
        "# LEAVE BLANK"
      ]
    },
    {
      "cell_type": "markdown",
      "metadata": {
        "deletable": false,
        "editable": false,
        "nbgrader": {
          "cell_type": "markdown",
          "checksum": "b7c4bc6e205096143496edcd58600ca2",
          "grade": false,
          "grade_id": "cell-86f80f00088e931d",
          "locked": true,
          "schema_version": 3,
          "solution": false,
          "task": false
        },
        "id": "u0tRuaj4BQZX"
      },
      "source": [
        "<div class=\"alert alert-info\"><b>Exercise 6: Standardizing the Features </b>\n",
        "\n",
        "To prevent potential issues with feature scaling, we will standardize the features using a `StandardScaler`. First, instantiate a `StandardScaler` and assign it to the variable `scaler`. Then, test it by transforming the `X_encoded` DataFrame. Store the scaled data in a new DataFrame called `X_scaled`.\n",
        "\n",
        " <br><i>[0.5 points]</i>\n",
        "</div>"
      ]
    },
    {
      "cell_type": "code",
      "execution_count": 13,
      "metadata": {
        "ExecuteTime": {
          "end_time": "2024-09-25T16:13:28.367475Z",
          "start_time": "2024-09-25T16:13:28.353614Z"
        },
        "deletable": false,
        "nbgrader": {
          "cell_type": "code",
          "checksum": "a5d70d0859a7e9513d16031567e1eb90",
          "grade": false,
          "grade_id": "ex6",
          "locked": false,
          "schema_version": 3,
          "solution": true,
          "task": false
        },
        "colab": {
          "base_uri": "https://localhost:8080/"
        },
        "id": "IQOhFq7PBQZX",
        "outputId": "2479e262-8a74-433e-b4e6-bbd4fae6b56e"
      },
      "outputs": [
        {
          "output_type": "stream",
          "name": "stdout",
          "text": [
            "     cat__Gender_Female  cat__Gender_Male  cat__Eye color_amber  \\\n",
            "0             -0.611990          0.611990             -0.052271   \n",
            "1             -0.611990          0.611990             -0.052271   \n",
            "2             -0.611990          0.611990             -0.052271   \n",
            "3             -0.611990          0.611990             -0.052271   \n",
            "4             -0.611990          0.611990             -0.052271   \n",
            "..                  ...               ...                   ...   \n",
            "729            1.634013         -1.634013             -0.052271   \n",
            "730           -0.611990          0.611990             -0.052271   \n",
            "731           -0.611990          0.611990             -0.052271   \n",
            "732            1.634013         -1.634013             -0.052271   \n",
            "733           -0.611990          0.611990             -0.052271   \n",
            "\n",
            "     cat__Eye color_black  cat__Eye color_blue  cat__Eye color_blue / white  \\\n",
            "0               -0.179858            -1.085376                    -0.036936   \n",
            "1               -0.179858             0.921340                    -0.036936   \n",
            "2               -0.179858             0.921340                    -0.036936   \n",
            "3               -0.179858            -1.085376                    -0.036936   \n",
            "4               -0.179858             0.921340                    -0.036936   \n",
            "..                    ...                  ...                          ...   \n",
            "729             -0.179858             0.921340                    -0.036936   \n",
            "730             -0.179858            -1.085376                    -0.036936   \n",
            "731             -0.179858            -1.085376                    -0.036936   \n",
            "732             -0.179858             0.921340                    -0.036936   \n",
            "733             -0.179858            -1.085376                    -0.036936   \n",
            "\n",
            "     cat__Eye color_bown  cat__Eye color_brown  cat__Eye color_gold  \\\n",
            "0              -0.036936             -0.455233            -0.064062   \n",
            "1              -0.036936             -0.455233            -0.064062   \n",
            "2              -0.036936             -0.455233            -0.064062   \n",
            "3              -0.036936             -0.455233            -0.064062   \n",
            "4              -0.036936             -0.455233            -0.064062   \n",
            "..                   ...                   ...                  ...   \n",
            "729            -0.036936             -0.455233            -0.064062   \n",
            "730            -0.036936             -0.455233            -0.064062   \n",
            "731            -0.036936              2.196679            -0.064062   \n",
            "732            -0.036936             -0.455233            -0.064062   \n",
            "733            -0.036936             -0.455233            -0.064062   \n",
            "\n",
            "     cat__Eye color_green  ...  cat__Skin color_red  \\\n",
            "0               -0.332323  ...            -0.111417   \n",
            "1               -0.332323  ...            -0.111417   \n",
            "2               -0.332323  ...             8.975275   \n",
            "3                3.009119  ...            -0.111417   \n",
            "4               -0.332323  ...            -0.111417   \n",
            "..                    ...  ...                  ...   \n",
            "729             -0.332323  ...            -0.111417   \n",
            "730             -0.332323  ...            -0.111417   \n",
            "731             -0.332323  ...            -0.111417   \n",
            "732             -0.332323  ...            -0.111417   \n",
            "733             -0.332323  ...            -0.111417   \n",
            "\n",
            "     cat__Skin color_red / black  cat__Skin color_silver  \\\n",
            "0                      -0.036936               -0.082817   \n",
            "1                      -0.036936               -0.082817   \n",
            "2                      -0.036936               -0.082817   \n",
            "3                      -0.036936               -0.082817   \n",
            "4                      -0.036936               -0.082817   \n",
            "..                           ...                     ...   \n",
            "729                    -0.036936               -0.082817   \n",
            "730                    -0.036936               -0.082817   \n",
            "731                    -0.036936               -0.082817   \n",
            "732                    -0.036936               -0.082817   \n",
            "733                    -0.036936               -0.082817   \n",
            "\n",
            "     cat__Skin color_white  cat__Skin color_yellow  ord__Power Level  \\\n",
            "0                -0.098125               -0.052271          1.427113   \n",
            "1                -0.098125               -0.052271         -0.725286   \n",
            "2                -0.098125               -0.052271         -0.007820   \n",
            "3                -0.098125               -0.052271          1.427113   \n",
            "4                -0.098125               -0.052271          1.427113   \n",
            "..                     ...                     ...               ...   \n",
            "729              -0.098125               -0.052271         -0.725286   \n",
            "730              10.191032               -0.052271          1.427113   \n",
            "731              -0.098125               -0.052271          0.709647   \n",
            "732              -0.098125               -0.052271         -0.007820   \n",
            "733              -0.098125               -0.052271         -0.725286   \n",
            "\n",
            "     ord__Intelligence Level  remainder__Height  remainder__Weight  \\\n",
            "0                   1.445132           0.722041           3.039988   \n",
            "1                  -0.686268           0.636037           0.164673   \n",
            "2                  -1.396735           0.593036           0.355851   \n",
            "3                   0.024198           0.722041           3.039988   \n",
            "4                   0.734665          -1.442378          -1.089453   \n",
            "..                       ...                ...                ...   \n",
            "729                 0.734665           0.449697           0.065261   \n",
            "730                 0.024198           1.451636          -1.089453   \n",
            "731                 1.445132          -0.259831          -0.202388   \n",
            "732                 0.024198           0.485531           0.103496   \n",
            "733                 0.734665           0.593036           0.287027   \n",
            "\n",
            "     remainder__Has Superpowers  \n",
            "0                     -0.983783  \n",
            "1                      1.016485  \n",
            "2                      1.016485  \n",
            "3                     -0.983783  \n",
            "4                     -0.983783  \n",
            "..                          ...  \n",
            "729                    1.016485  \n",
            "730                    1.016485  \n",
            "731                   -0.983783  \n",
            "732                    1.016485  \n",
            "733                    1.016485  \n",
            "\n",
            "[734 rows x 135 columns]\n"
          ]
        }
      ],
      "source": [
        "from sklearn.preprocessing import StandardScaler\n",
        "\n",
        "scaler = StandardScaler()\n",
        "\n",
        "X_scaled = scaler.fit_transform(X_encoded)\n",
        "\n",
        "X_scaled = pd.DataFrame(X_scaled)\n",
        "\n",
        "print(X_scaled)"
      ]
    },
    {
      "cell_type": "code",
      "execution_count": null,
      "metadata": {
        "ExecuteTime": {
          "end_time": "2024-09-25T16:13:28.403788Z",
          "start_time": "2024-09-25T16:13:28.401270Z"
        },
        "deletable": false,
        "editable": false,
        "nbgrader": {
          "cell_type": "code",
          "checksum": "1f5fca22d2de320e3352ebd2ba6c9da0",
          "grade": true,
          "grade_id": "test6_1",
          "locked": true,
          "points": 0.25,
          "schema_version": 3,
          "solution": false,
          "task": false
        },
        "id": "dXHyTpJMBQZX"
      },
      "outputs": [],
      "source": [
        "# LEAVE BLANK"
      ]
    },
    {
      "cell_type": "code",
      "execution_count": null,
      "metadata": {
        "ExecuteTime": {
          "end_time": "2024-09-25T16:13:28.450137Z",
          "start_time": "2024-09-25T16:13:28.446501Z"
        },
        "deletable": false,
        "editable": false,
        "nbgrader": {
          "cell_type": "code",
          "checksum": "7042906a63097a447edc0a93aa4cbb07",
          "grade": true,
          "grade_id": "test6_2",
          "locked": true,
          "points": 0.25,
          "schema_version": 3,
          "solution": false,
          "task": false
        },
        "id": "EyFyoCGNBQZX"
      },
      "outputs": [],
      "source": [
        "# LEAVE BLANK"
      ]
    },
    {
      "cell_type": "markdown",
      "metadata": {
        "deletable": false,
        "editable": false,
        "nbgrader": {
          "cell_type": "markdown",
          "checksum": "b04c26e267d0b4efea4973ef077e1e5e",
          "grade": false,
          "grade_id": "cell-c7c37a1aa2f33b36",
          "locked": true,
          "schema_version": 3,
          "solution": false,
          "task": false
        },
        "id": "vEM59NchBQZX"
      },
      "source": [
        "<div class=\"alert alert-info\"><b>Exercise 7: Building the Preprocessing Pipeline </b>\n",
        "\n",
        "To complete this part of the assignment, create a `Pipeline` named `pipe` that includes the imputer, transformer, and scaler from the previous exercises. Test the pipeline by transforming the original feature matrix `X`, and store the preprocessed data in a new DataFrame called `X_pipe`.\n",
        "\n",
        "<br><i>[1 points]</i>\n",
        "</div>\n",
        "\n",
        "<div class='alert alert-warning'>\n",
        "\n",
        "Be sure you apply the data transformations in the correct order.\n",
        "\n",
        "</div>"
      ]
    },
    {
      "cell_type": "code",
      "execution_count": 14,
      "metadata": {
        "ExecuteTime": {
          "end_time": "2024-09-25T16:13:28.512003Z",
          "start_time": "2024-09-25T16:13:28.492651Z"
        },
        "deletable": false,
        "nbgrader": {
          "cell_type": "code",
          "checksum": "05ebfb30357af4a09ab8968990db619c",
          "grade": false,
          "grade_id": "ex7",
          "locked": false,
          "schema_version": 3,
          "solution": true,
          "task": false
        },
        "colab": {
          "base_uri": "https://localhost:8080/"
        },
        "id": "3tELONnyBQZX",
        "outputId": "37ac3dda-663b-4923-f4f8-b86ab362fa1c"
      },
      "outputs": [
        {
          "output_type": "stream",
          "name": "stdout",
          "text": [
            "   cat__Gender_Female  cat__Gender_Male  cat__Eye color_amber  \\\n",
            "0            -0.61199           0.61199             -0.052271   \n",
            "1            -0.61199           0.61199             -0.052271   \n",
            "2            -0.61199           0.61199             -0.052271   \n",
            "3            -0.61199           0.61199             -0.052271   \n",
            "4            -0.61199           0.61199             -0.052271   \n",
            "\n",
            "   cat__Eye color_black  cat__Eye color_blue  cat__Eye color_blue / white  \\\n",
            "0             -0.179858            -1.085376                    -0.036936   \n",
            "1             -0.179858             0.921340                    -0.036936   \n",
            "2             -0.179858             0.921340                    -0.036936   \n",
            "3             -0.179858            -1.085376                    -0.036936   \n",
            "4             -0.179858             0.921340                    -0.036936   \n",
            "\n",
            "   cat__Eye color_bown  cat__Eye color_brown  cat__Eye color_gold  \\\n",
            "0            -0.036936             -0.455233            -0.064062   \n",
            "1            -0.036936             -0.455233            -0.064062   \n",
            "2            -0.036936             -0.455233            -0.064062   \n",
            "3            -0.036936             -0.455233            -0.064062   \n",
            "4            -0.036936             -0.455233            -0.064062   \n",
            "\n",
            "   cat__Eye color_green  ...  cat__Skin color_red  \\\n",
            "0             -0.332323  ...            -0.111417   \n",
            "1             -0.332323  ...            -0.111417   \n",
            "2             -0.332323  ...             8.975275   \n",
            "3              3.009119  ...            -0.111417   \n",
            "4             -0.332323  ...            -0.111417   \n",
            "\n",
            "   cat__Skin color_red / black  cat__Skin color_silver  cat__Skin color_white  \\\n",
            "0                    -0.036936               -0.082817              -0.098125   \n",
            "1                    -0.036936               -0.082817              -0.098125   \n",
            "2                    -0.036936               -0.082817              -0.098125   \n",
            "3                    -0.036936               -0.082817              -0.098125   \n",
            "4                    -0.036936               -0.082817              -0.098125   \n",
            "\n",
            "   cat__Skin color_yellow  ord__Power Level  ord__Intelligence Level  \\\n",
            "0               -0.052271          1.427113                 1.445132   \n",
            "1               -0.052271         -0.725286                -0.686268   \n",
            "2               -0.052271         -0.007820                -1.396735   \n",
            "3               -0.052271          1.427113                 0.024198   \n",
            "4               -0.052271          1.427113                 0.734665   \n",
            "\n",
            "   remainder__Height  remainder__Weight  remainder__Has Superpowers  \n",
            "0           0.722041           3.039988                   -0.983783  \n",
            "1           0.636037           0.164673                    1.016485  \n",
            "2           0.593036           0.355851                    1.016485  \n",
            "3           0.722041           3.039988                   -0.983783  \n",
            "4          -1.442378          -1.089453                   -0.983783  \n",
            "\n",
            "[5 rows x 135 columns]\n"
          ]
        }
      ],
      "source": [
        "from os import pipe\n",
        "from sklearn.pipeline import Pipeline\n",
        "from sklearn.preprocessing import StandardScaler\n",
        "\n",
        "pipe = Pipeline(steps=[('imputer', SimpleImputer(strategy='most_frequent')),\n",
        "                       ('transformer', transformer),\n",
        "                       ('scaler', StandardScaler())\n",
        "                       ])\n",
        "\n",
        "X_pipe = pipe.fit_transform(X)\n",
        "\n",
        "X_pipe = pd.DataFrame(X_pipe)\n",
        "\n",
        "print(X_pipe.head())"
      ]
    },
    {
      "cell_type": "code",
      "execution_count": null,
      "metadata": {
        "ExecuteTime": {
          "end_time": "2024-09-25T16:13:28.544483Z",
          "start_time": "2024-09-25T16:13:28.542805Z"
        },
        "deletable": false,
        "editable": false,
        "nbgrader": {
          "cell_type": "code",
          "checksum": "759ab0255722dd11069b2d6a92925047",
          "grade": true,
          "grade_id": "test7_1",
          "locked": true,
          "points": 0.25,
          "schema_version": 3,
          "solution": false,
          "task": false
        },
        "id": "CK9VyNsjBQZX"
      },
      "outputs": [],
      "source": [
        "# LEAVE BLANK"
      ]
    },
    {
      "cell_type": "code",
      "execution_count": null,
      "metadata": {
        "ExecuteTime": {
          "end_time": "2024-09-25T16:13:28.589900Z",
          "start_time": "2024-09-25T16:13:28.587578Z"
        },
        "deletable": false,
        "editable": false,
        "nbgrader": {
          "cell_type": "code",
          "checksum": "4b4dd682e1b00a58de1d1feb3303bbaa",
          "grade": true,
          "grade_id": "test7_2",
          "locked": true,
          "points": 0.25,
          "schema_version": 3,
          "solution": false,
          "task": false
        },
        "id": "JpRgpgO3BQZX"
      },
      "outputs": [],
      "source": [
        "# LEAVE BLANK"
      ]
    },
    {
      "cell_type": "code",
      "execution_count": null,
      "metadata": {
        "ExecuteTime": {
          "end_time": "2024-09-25T16:13:28.635987Z",
          "start_time": "2024-09-25T16:13:28.633835Z"
        },
        "deletable": false,
        "editable": false,
        "nbgrader": {
          "cell_type": "code",
          "checksum": "b05405708a77a506cbfc2f01ba4903f7",
          "grade": true,
          "grade_id": "test7_3",
          "locked": true,
          "points": 0.25,
          "schema_version": 3,
          "solution": false,
          "task": false
        },
        "id": "N0t62g9_BQZX"
      },
      "outputs": [],
      "source": [
        "# LEAVE BLANK"
      ]
    },
    {
      "cell_type": "code",
      "execution_count": null,
      "metadata": {
        "ExecuteTime": {
          "end_time": "2024-09-25T16:13:28.683930Z",
          "start_time": "2024-09-25T16:13:28.681474Z"
        },
        "deletable": false,
        "editable": false,
        "jupyter": {
          "outputs_hidden": false
        },
        "nbgrader": {
          "cell_type": "code",
          "checksum": "464944bfaff55f7798c11bcc548f3d6d",
          "grade": true,
          "grade_id": "test7_4",
          "locked": true,
          "points": 0.25,
          "schema_version": 3,
          "solution": false,
          "task": false
        },
        "id": "rhkjZIY8BQZX"
      },
      "outputs": [],
      "source": [
        "# LEAVE BLANK"
      ]
    },
    {
      "cell_type": "markdown",
      "metadata": {
        "deletable": false,
        "editable": false,
        "nbgrader": {
          "cell_type": "markdown",
          "checksum": "c45f7c7c979edff46eeaebe942b67c85",
          "grade": false,
          "grade_id": "cell-c7c37a1aa2fjk33bhj36",
          "locked": true,
          "schema_version": 3,
          "solution": false,
          "task": false
        },
        "id": "SD7eFtk7BQZX"
      },
      "source": [
        "<div class=\"alert alert-info\"><b>Exercise 8: End-to-End Preprocessing on a Complex Dataset </b>\n",
        "\n",
        "Now, apply everything you’ve learned to preprocess a more complex dataset. Execute the next cell to load a new dataset, `df`, which includes both numerical and categorical features, some of which are ordinal. This dataset also contains missing values and features that require scaling.\n",
        "\n",
        "**Your tasks are:**\n",
        "\n",
        "1. **Feature Selection and Engineering:**  \n",
        "   Create a feature matrix `X` and a target array `y` (using the `Alignment` variable). Drop any irrelevant columns and explain your reasoning for each column you choose to exclude. If you find it relevant, consider combining existing columns or creating new ones based on the dataset's features.\n",
        "\n",
        "2. **Encoding Categorical and Ordinal Features:**  \n",
        "   Identify the categorical and ordinal columns, and encode them using a `ColumnTransformer` to apply the transformations in parallel.\n",
        "\n",
        "3. **Handling Missing Data:**  \n",
        "   If there are missing values in your feature matrix, decide on an appropriate method to handle them (e.g., imputation).\n",
        "\n",
        "4. **Standardizing Features:**  \n",
        "   Assess whether standardization is necessary for your numerical features, and apply it if needed.\n",
        "\n",
        "5. **Building a Pipeline:**  \n",
        "   Create a `Pipeline` that integrates all the preprocessing steps you have applied.\n",
        "\n",
        "6. **Documentation:**\n",
        "   Remember that thoroughly documenting your code and clearly explaining why certain decisions were made—while also considering and justifying why other options were not chosen—will be highly evaluated.\n",
        "   \n",
        "\n",
        "\n",
        "\n",
        "<br><i>[5 points]</i>\n",
        "</div>\n",
        "\n"
      ]
    },
    {
      "cell_type": "code",
      "execution_count": null,
      "metadata": {
        "ExecuteTime": {
          "end_time": "2024-09-25T16:13:29.098631Z",
          "start_time": "2024-09-25T16:13:28.728080Z"
        },
        "deletable": false,
        "editable": false,
        "nbgrader": {
          "cell_type": "code",
          "checksum": "769f37705efa948ad18a2fa0a9704a3c",
          "grade": false,
          "grade_id": "cell-1c558e3e7a3e6e66",
          "locked": true,
          "schema_version": 3,
          "solution": false,
          "task": false
        },
        "id": "kMU0PXFVBQZY"
      },
      "outputs": [],
      "source": [
        "# DO NOT MODIFY NOR ADD CODE TO THIS CELL\n",
        "\n",
        "df = pd.read_csv('https://raw.githubusercontent.com/jnin/information-systems/refs/heads/main/data/superheroes_complete.csv')"
      ]
    },
    {
      "cell_type": "code",
      "execution_count": 16,
      "metadata": {
        "ExecuteTime": {
          "end_time": "2024-09-25T16:15:17.022765Z",
          "start_time": "2024-09-25T16:15:16.249897Z"
        },
        "deletable": false,
        "nbgrader": {
          "cell_type": "code",
          "checksum": "afbce71d8bcd1c8c6a0c2dd3c6e9a686",
          "grade": true,
          "grade_id": "ex8",
          "locked": false,
          "points": 5,
          "schema_version": 3,
          "solution": true,
          "task": false
        },
        "colab": {
          "base_uri": "https://localhost:8080/",
          "height": 365
        },
        "id": "tJLqbHNcBQZY",
        "outputId": "2cafb16e-a057-4118-c9b8-4ca5d7b4c9e8"
      },
      "outputs": [
        {
          "output_type": "error",
          "ename": "KeyError",
          "evalue": "\"['ID'] not found in axis\"",
          "traceback": [
            "\u001b[0;31m---------------------------------------------------------------------------\u001b[0m",
            "\u001b[0;31mKeyError\u001b[0m                                  Traceback (most recent call last)",
            "\u001b[0;32m<ipython-input-16-c0b931c94ff1>\u001b[0m in \u001b[0;36m<cell line: 9>\u001b[0;34m()\u001b[0m\n\u001b[1;32m      7\u001b[0m \u001b[0;31m# Feature Selection and Engineering\u001b[0m\u001b[0;34m\u001b[0m\u001b[0;34m\u001b[0m\u001b[0m\n\u001b[1;32m      8\u001b[0m \u001b[0;31m# Drop irrelevant columns. For this example, let's assume 'Name' and 'ID' are irrelevant for prediction.\u001b[0m\u001b[0;34m\u001b[0m\u001b[0;34m\u001b[0m\u001b[0m\n\u001b[0;32m----> 9\u001b[0;31m \u001b[0mX\u001b[0m \u001b[0;34m=\u001b[0m \u001b[0mdf\u001b[0m\u001b[0;34m.\u001b[0m\u001b[0mdrop\u001b[0m\u001b[0;34m(\u001b[0m\u001b[0mcolumns\u001b[0m \u001b[0;34m=\u001b[0m \u001b[0;34m[\u001b[0m\u001b[0;34m'Name'\u001b[0m\u001b[0;34m,\u001b[0m \u001b[0;34m'ID'\u001b[0m\u001b[0;34m]\u001b[0m\u001b[0;34m)\u001b[0m\u001b[0;34m\u001b[0m\u001b[0;34m\u001b[0m\u001b[0m\n\u001b[0m\u001b[1;32m     10\u001b[0m \u001b[0;34m\u001b[0m\u001b[0m\n\u001b[1;32m     11\u001b[0m \u001b[0;31m# Identify categorical and ordinal columns\u001b[0m\u001b[0;34m\u001b[0m\u001b[0;34m\u001b[0m\u001b[0m\n",
            "\u001b[0;32m/usr/local/lib/python3.10/dist-packages/pandas/core/frame.py\u001b[0m in \u001b[0;36mdrop\u001b[0;34m(self, labels, axis, index, columns, level, inplace, errors)\u001b[0m\n\u001b[1;32m   5579\u001b[0m                 \u001b[0mweight\u001b[0m  \u001b[0;36m1.0\u001b[0m     \u001b[0;36m0.8\u001b[0m\u001b[0;34m\u001b[0m\u001b[0;34m\u001b[0m\u001b[0m\n\u001b[1;32m   5580\u001b[0m         \"\"\"\n\u001b[0;32m-> 5581\u001b[0;31m         return super().drop(\n\u001b[0m\u001b[1;32m   5582\u001b[0m             \u001b[0mlabels\u001b[0m\u001b[0;34m=\u001b[0m\u001b[0mlabels\u001b[0m\u001b[0;34m,\u001b[0m\u001b[0;34m\u001b[0m\u001b[0;34m\u001b[0m\u001b[0m\n\u001b[1;32m   5583\u001b[0m             \u001b[0maxis\u001b[0m\u001b[0;34m=\u001b[0m\u001b[0maxis\u001b[0m\u001b[0;34m,\u001b[0m\u001b[0;34m\u001b[0m\u001b[0;34m\u001b[0m\u001b[0m\n",
            "\u001b[0;32m/usr/local/lib/python3.10/dist-packages/pandas/core/generic.py\u001b[0m in \u001b[0;36mdrop\u001b[0;34m(self, labels, axis, index, columns, level, inplace, errors)\u001b[0m\n\u001b[1;32m   4786\u001b[0m         \u001b[0;32mfor\u001b[0m \u001b[0maxis\u001b[0m\u001b[0;34m,\u001b[0m \u001b[0mlabels\u001b[0m \u001b[0;32min\u001b[0m \u001b[0maxes\u001b[0m\u001b[0;34m.\u001b[0m\u001b[0mitems\u001b[0m\u001b[0;34m(\u001b[0m\u001b[0;34m)\u001b[0m\u001b[0;34m:\u001b[0m\u001b[0;34m\u001b[0m\u001b[0;34m\u001b[0m\u001b[0m\n\u001b[1;32m   4787\u001b[0m             \u001b[0;32mif\u001b[0m \u001b[0mlabels\u001b[0m \u001b[0;32mis\u001b[0m \u001b[0;32mnot\u001b[0m \u001b[0;32mNone\u001b[0m\u001b[0;34m:\u001b[0m\u001b[0;34m\u001b[0m\u001b[0;34m\u001b[0m\u001b[0m\n\u001b[0;32m-> 4788\u001b[0;31m                 \u001b[0mobj\u001b[0m \u001b[0;34m=\u001b[0m \u001b[0mobj\u001b[0m\u001b[0;34m.\u001b[0m\u001b[0m_drop_axis\u001b[0m\u001b[0;34m(\u001b[0m\u001b[0mlabels\u001b[0m\u001b[0;34m,\u001b[0m \u001b[0maxis\u001b[0m\u001b[0;34m,\u001b[0m \u001b[0mlevel\u001b[0m\u001b[0;34m=\u001b[0m\u001b[0mlevel\u001b[0m\u001b[0;34m,\u001b[0m \u001b[0merrors\u001b[0m\u001b[0;34m=\u001b[0m\u001b[0merrors\u001b[0m\u001b[0;34m)\u001b[0m\u001b[0;34m\u001b[0m\u001b[0;34m\u001b[0m\u001b[0m\n\u001b[0m\u001b[1;32m   4789\u001b[0m \u001b[0;34m\u001b[0m\u001b[0m\n\u001b[1;32m   4790\u001b[0m         \u001b[0;32mif\u001b[0m \u001b[0minplace\u001b[0m\u001b[0;34m:\u001b[0m\u001b[0;34m\u001b[0m\u001b[0;34m\u001b[0m\u001b[0m\n",
            "\u001b[0;32m/usr/local/lib/python3.10/dist-packages/pandas/core/generic.py\u001b[0m in \u001b[0;36m_drop_axis\u001b[0;34m(self, labels, axis, level, errors, only_slice)\u001b[0m\n\u001b[1;32m   4828\u001b[0m                 \u001b[0mnew_axis\u001b[0m \u001b[0;34m=\u001b[0m \u001b[0maxis\u001b[0m\u001b[0;34m.\u001b[0m\u001b[0mdrop\u001b[0m\u001b[0;34m(\u001b[0m\u001b[0mlabels\u001b[0m\u001b[0;34m,\u001b[0m \u001b[0mlevel\u001b[0m\u001b[0;34m=\u001b[0m\u001b[0mlevel\u001b[0m\u001b[0;34m,\u001b[0m \u001b[0merrors\u001b[0m\u001b[0;34m=\u001b[0m\u001b[0merrors\u001b[0m\u001b[0;34m)\u001b[0m\u001b[0;34m\u001b[0m\u001b[0;34m\u001b[0m\u001b[0m\n\u001b[1;32m   4829\u001b[0m             \u001b[0;32melse\u001b[0m\u001b[0;34m:\u001b[0m\u001b[0;34m\u001b[0m\u001b[0;34m\u001b[0m\u001b[0m\n\u001b[0;32m-> 4830\u001b[0;31m                 \u001b[0mnew_axis\u001b[0m \u001b[0;34m=\u001b[0m \u001b[0maxis\u001b[0m\u001b[0;34m.\u001b[0m\u001b[0mdrop\u001b[0m\u001b[0;34m(\u001b[0m\u001b[0mlabels\u001b[0m\u001b[0;34m,\u001b[0m \u001b[0merrors\u001b[0m\u001b[0;34m=\u001b[0m\u001b[0merrors\u001b[0m\u001b[0;34m)\u001b[0m\u001b[0;34m\u001b[0m\u001b[0;34m\u001b[0m\u001b[0m\n\u001b[0m\u001b[1;32m   4831\u001b[0m             \u001b[0mindexer\u001b[0m \u001b[0;34m=\u001b[0m \u001b[0maxis\u001b[0m\u001b[0;34m.\u001b[0m\u001b[0mget_indexer\u001b[0m\u001b[0;34m(\u001b[0m\u001b[0mnew_axis\u001b[0m\u001b[0;34m)\u001b[0m\u001b[0;34m\u001b[0m\u001b[0;34m\u001b[0m\u001b[0m\n\u001b[1;32m   4832\u001b[0m \u001b[0;34m\u001b[0m\u001b[0m\n",
            "\u001b[0;32m/usr/local/lib/python3.10/dist-packages/pandas/core/indexes/base.py\u001b[0m in \u001b[0;36mdrop\u001b[0;34m(self, labels, errors)\u001b[0m\n\u001b[1;32m   7068\u001b[0m         \u001b[0;32mif\u001b[0m \u001b[0mmask\u001b[0m\u001b[0;34m.\u001b[0m\u001b[0many\u001b[0m\u001b[0;34m(\u001b[0m\u001b[0;34m)\u001b[0m\u001b[0;34m:\u001b[0m\u001b[0;34m\u001b[0m\u001b[0;34m\u001b[0m\u001b[0m\n\u001b[1;32m   7069\u001b[0m             \u001b[0;32mif\u001b[0m \u001b[0merrors\u001b[0m \u001b[0;34m!=\u001b[0m \u001b[0;34m\"ignore\"\u001b[0m\u001b[0;34m:\u001b[0m\u001b[0;34m\u001b[0m\u001b[0;34m\u001b[0m\u001b[0m\n\u001b[0;32m-> 7070\u001b[0;31m                 \u001b[0;32mraise\u001b[0m \u001b[0mKeyError\u001b[0m\u001b[0;34m(\u001b[0m\u001b[0;34mf\"{labels[mask].tolist()} not found in axis\"\u001b[0m\u001b[0;34m)\u001b[0m\u001b[0;34m\u001b[0m\u001b[0;34m\u001b[0m\u001b[0m\n\u001b[0m\u001b[1;32m   7071\u001b[0m             \u001b[0mindexer\u001b[0m \u001b[0;34m=\u001b[0m \u001b[0mindexer\u001b[0m\u001b[0;34m[\u001b[0m\u001b[0;34m~\u001b[0m\u001b[0mmask\u001b[0m\u001b[0;34m]\u001b[0m\u001b[0;34m\u001b[0m\u001b[0;34m\u001b[0m\u001b[0m\n\u001b[1;32m   7072\u001b[0m         \u001b[0;32mreturn\u001b[0m \u001b[0mself\u001b[0m\u001b[0;34m.\u001b[0m\u001b[0mdelete\u001b[0m\u001b[0;34m(\u001b[0m\u001b[0mindexer\u001b[0m\u001b[0;34m)\u001b[0m\u001b[0;34m\u001b[0m\u001b[0;34m\u001b[0m\u001b[0m\n",
            "\u001b[0;31mKeyError\u001b[0m: \"['ID'] not found in axis\""
          ]
        }
      ],
      "source": [
        "import pandas as pd\n",
        "from sklearn.compose import ColumnTransformer\n",
        "from sklearn.impute import SimpleImputer\n",
        "from sklearn.pipeline import Pipeline\n",
        "from sklearn.preprocessing import StandardScaler, OneHotEncoder\n",
        "\n",
        "X = df.drop(columns = ['Name', 'ID'])\n",
        "\n",
        "categorical_cols = X.select_dtypes(include=['object']).columns.tolist()\n",
        "ordinal_cols = []\n",
        "\n",
        "preprocessor = ColumnTransformer(\n",
        "    transformers=[\n",
        "        ('cat', OneHotEncoder(handle_unknown='ignore'), categorical_cols),\n",
        "        ('num', StandardScaler(), X.select_dtypes(include=['int64', 'float64']).columns.tolist())\n",
        "    ],\n",
        "    remainder='passthrough'\n",
        ")\n",
        "\n",
        "imputer = ColumnTransformer(\n",
        "    transformers=[\n",
        "        ('num', SimpleImputer(strategy='mean'), X.select_dtypes(include=['int64', 'float64']).columns.tolist()),\n",
        "        ('cat', SimpleImputer(strategy='most_frequent'), categorical_cols)\n",
        "    ],\n",
        "    remainder='passthrough'\n",
        ")\n",
        "\n",
        "pipeline = Pipeline(steps=[\n",
        "    ('imputer', imputer),\n",
        "    ('preprocessor', preprocessor)\n",
        "])\n",
        "\n",
        "\n",
        "X_processed = pipeline.fit_transform(X)\n",
        "\n",
        "print(\"Preprocessing complete. The feature matrix is ready for model training.\")\n"
      ]
    },
    {
      "cell_type": "code",
      "source": [],
      "metadata": {
        "id": "r5-qpFfpixaP"
      },
      "execution_count": null,
      "outputs": []
    }
  ],
  "metadata": {
    "colab": {
      "provenance": [],
      "include_colab_link": true
    },
    "kernelspec": {
      "display_name": "Python 3 (ipykernel)",
      "language": "python",
      "name": "python3"
    },
    "language_info": {
      "codemirror_mode": {
        "name": "ipython",
        "version": 3
      },
      "file_extension": ".py",
      "mimetype": "text/x-python",
      "name": "python",
      "nbconvert_exporter": "python",
      "pygments_lexer": "ipython3",
      "version": "3.11.9"
    }
  },
  "nbformat": 4,
  "nbformat_minor": 0
}