{
 "cells": [
  {
   "cell_type": "markdown",
   "metadata": {
    "deletable": false,
    "editable": false,
    "id": "1_t4V9bnt-hB",
    "nbgrader": {
     "cell_type": "markdown",
     "checksum": "170d0196a91de492e5c65c198255c57f",
     "grade": false,
     "grade_id": "cell-e911fa75d4ae6ea9",
     "locked": true,
     "schema_version": 3,
     "solution": false,
     "task": false
    }
   },
   "source": [
    "\n",
    "# Assignment 1: Sci-Kit Learn machine learning preprocessing pipeline\n",
    "\n",
    "This notebook contains a set of exercises that will guide you through the different steps of this assignment. Solutions must be code-based, _i.e._ hard-coded or manually computed results will not be accepted. Remember to write your solutions to each exercise in the dedicated cells and not modify or remove the test cells. When completing all the exercises submit this same notebook back to Moodle in **.ipynb** format.\n",
    "\n",
    "<div class=\"alert alert-success\">\n",
    "\n",
    "<b>About the datasets used in this assignment</b>\n",
    "\n",
    "<u>Context</u>\n",
    "\n",
    "Superheroes have been in popular culture for a long time, and now more than ever. Since its creation, superheroes have not been diverse, but this is changing rapidly. The two datasets aim to provide an overview of heroes and their physical and power characteristics, helping curious people to identify trends and patterns. In this case, we want to understand how physical attributes and powers define superheroes' alignment (superhero, supervillain).\n",
    "\n",
    "<u>Content</u>\n",
    "    \n",
    "The columns included in both datasets are: \n",
    "- **Dataset part 1**: Name, Gender, Eye color, Race, Hair color, Height, Publisher, Skin color, Alignment, Weight,Has Superpowers, Power Level, Intelligence Level\n",
    "- **Dataset part 2**: Previous columns and, Agility, Accelerated Healing, Lantern Power Ring, Dimensional Awareness, Cold Resistance, Durability, Stealth, Energy Absorption, Flight, Danger Sense, Underwater breathing, Marksmanship, Weapons Master, Power Augmentation, Animal Attributes, Longevity, Intelligence, Super Strength, Cryokinesis, Telepathy, Energy Armor, Energy Blasts, Duplication, Size Changing, Density Control, Stamina, Astral Travel,Audio Control, Dexterity, Omnitrix, Super Speed, Possession, Animal Oriented Powers, Weapon-based Powers, Electrokinesis, Darkforce Manipulation, Death Touch, Teleportation, Enhanced Senses, Telekinesis, Energy Beams, Magic, Hyperkinesis, Jump, Clairvoyance, Dimensional Travel, Power Sense, Shapeshifting, Peak Human Condition, Immortality, Camouflage, Element Control, Phasing, Astral Projection, Electrical Transport, Fire Control,Projection, Summoning, Enhanced Memory, Reflexes, Invulnerability, Energy Constructs, Force Fields, Self-Sustenance ,Anti-Gravity, Empathy, Power Nullifier, Radiation Control, Psionic Powers, Elasticity, Substance Secretion, Elemental Transmogrification, Technopath/Cyberpath, Photographic Reflexes, Seismic Power, Animation, Precognition, Mind Control, Fire Resistance, Power Absorption, Enhanced Hearing, Nova Force, Insanity, Hypnokinesis, Animal Control, Natural Armor, Intangibility, Enhanced Sight, Molecular Manipulation, Heat Generation, Adaptation, Gliding, Power Suit, Mind Blast, Probability Manipulation, Gravity Control, Regeneration, Light Control, Echolocation, Levitation, Toxin and Disease Control, Banish, Energy Manipulation, Heat Resistance, Natural Weapons, Time Travel, Enhanced Smell, Illusions, Thirstokinesis, Hair Manipulation, Illumination, Omnipotent, Cloaking, Changing Armor, Power Cosmic, Biokinesis, Water Control, Radiation Immunity, Vision - Telescopic, Toxin and Disease Resistance, Spatial Awareness, Energy Resistance, Telepathy Resistance, Molecular Combustion, Omnilingualism, Portal Creation, Magnetism, Mind Control Resistance, Plant Control, Sonar, Sonic Scream, Time Manipulation, Enhanced Touch, Magic Resistance, Invisibility, Sub-Mariner, Radiation Absorption, Intuitive aptitude, Vision - Microscopic, Melting, Wind Control, Super Breath, Wallcrawling, Vision - Night, Vision - Infrared, Grim Reaping, Matter Absorption, The Force, Resurrection, Terrakinesis, Vision - Heat, Vitakinesis, Radar Sense, Qwardian Power Ring, Weather Control, Vision - X-Ray, Vision - Thermal, Web Creation, Reality Warping, Odin Force, Symbiote Costume, Speed Force, Phoenix Force, Molecular Dissipation, Vision - Cryo, Omnipresent, Omniscient.\n",
    "\n",
    "Column names are self-explanatory. Physical attributes are numerical or categorical, while superpowers are dummy (Onehot) variables.\n",
    "    \n",
    " <u>Inspiration</u>\n",
    "\n",
    "What are the characteristics of your favorite superheroes? Are these characteristics affecting superheroes' alignment? Let's put some light on this important business question.\n",
    "\n",
    "</div>\n",
    "\n",
    "<div class=\"alert alert-danger\"><b>Submission deadline:</b> Friday, October 18th, 23:55</div>\n"
   ]
  },
  {
   "cell_type": "code",
   "execution_count": 1,
   "metadata": {
    "ExecuteTime": {
     "end_time": "2024-09-25T16:13:27.508510Z",
     "start_time": "2024-09-25T16:13:27.037656Z"
    },
    "deletable": false,
    "editable": false,
    "id": "1gbj1gyT16vl",
    "nbgrader": {
     "cell_type": "code",
     "checksum": "d73035e0b260736f184195ad45bc0191",
     "grade": false,
     "grade_id": "cell-0fcbc57512e78927",
     "locked": true,
     "schema_version": 3,
     "solution": false,
     "task": false
    }
   },
   "outputs": [],
   "source": [
    "# DO NOT MODIFY NOR ADD CODE TO THIS CELL\n",
    "import pandas as pd\n",
    "from sklearn import set_config\n",
    "\n",
    "set_config(transform_output=\"pandas\")\n",
    "\n",
    "df = pd.read_csv('https://raw.githubusercontent.com/jnin/information-systems/refs/heads/main/data/superheroes_%20physical_traits.csv')"
   ]
  },
  {
   "cell_type": "markdown",
   "metadata": {
    "deletable": false,
    "editable": false,
    "nbgrader": {
     "cell_type": "markdown",
     "checksum": "9fc830f80040b858db07c4d6e8404cb1",
     "grade": false,
     "grade_id": "cell-960ed6121c802915",
     "locked": true,
     "schema_version": 3,
     "solution": false,
     "task": false
    }
   },
   "source": [
    "<div class=\"alert alert-info\"><b>Exercise 1: Creating the Feature Matrix and Target Array</b>\n",
    "\n",
    "Write the code to create the feature matrix ```X``` and the target array ```y``` from the dataframe ```df```. When creating ```X```, make sure to drop or ignore the irrelevant columns: ```['Name', 'Publisher']```.\n",
    "\n",
    "The target variable for this problem is ```Alignment```.\n",
    "\n",
    "<br><i>[0.5 points]</i>\n",
    "</div>\n",
    "<div class=\"alert alert-warning\">\n",
    "    \n",
    "Python is case-sensitive, so ensure your code matches the required capitalization.\n",
    "Do **not** download the dataset manually. Instead, run the previous cell to load the data directly from the provided link.\n",
    "\n",
    "</div>"
   ]
  },
  {
   "cell_type": "code",
   "execution_count": 16,
   "metadata": {
    "ExecuteTime": {
     "end_time": "2024-09-25T16:13:27.515069Z",
     "start_time": "2024-09-25T16:13:27.512068Z"
    },
    "deletable": false,
    "id": "rnxOTovpEqpu",
    "nbgrader": {
     "cell_type": "code",
     "checksum": "3416f03882927817c5373de161fb4a59",
     "grade": false,
     "grade_id": "ex1",
     "locked": false,
     "schema_version": 3,
     "solution": true,
     "task": false
    }
   },
   "outputs": [
    {
     "data": {
      "text/plain": [
       "0      good\n",
       "1      good\n",
       "2      good\n",
       "3       bad\n",
       "4       bad\n",
       "       ... \n",
       "729    good\n",
       "730    good\n",
       "731    good\n",
       "732    good\n",
       "733     bad\n",
       "Name: Alignment, Length: 734, dtype: object"
      ]
     },
     "execution_count": 16,
     "metadata": {},
     "output_type": "execute_result"
    }
   ],
   "source": [
    "# YOUR CODE HERE\n",
    "X=df.drop(columns=['Name','Publisher',])\n",
    "y=df['Alignment']\n",
    "y\n"
   ]
  },
  {
   "cell_type": "code",
   "execution_count": null,
   "metadata": {
    "ExecuteTime": {
     "end_time": "2024-09-25T16:13:27.577276Z",
     "start_time": "2024-09-25T16:13:27.575072Z"
    },
    "deletable": false,
    "editable": false,
    "nbgrader": {
     "cell_type": "code",
     "checksum": "68ecdd3b3d805baa5acee240c7c43b34",
     "grade": true,
     "grade_id": "test1_1",
     "locked": true,
     "points": 0.25,
     "schema_version": 3,
     "solution": false,
     "task": false
    }
   },
   "outputs": [],
   "source": [
    "# LEAVE BLANK"
   ]
  },
  {
   "cell_type": "code",
   "execution_count": null,
   "metadata": {
    "ExecuteTime": {
     "end_time": "2024-09-25T16:13:27.676729Z",
     "start_time": "2024-09-25T16:13:27.620311Z"
    },
    "deletable": false,
    "editable": false,
    "jupyter": {
     "outputs_hidden": false
    },
    "nbgrader": {
     "cell_type": "code",
     "checksum": "52885fcba97b2dc1b6f18131fde36661",
     "grade": true,
     "grade_id": "test1_2",
     "locked": true,
     "points": 0.25,
     "schema_version": 3,
     "solution": false,
     "task": false
    }
   },
   "outputs": [],
   "source": [
    "# LEAVE BLANK"
   ]
  },
  {
   "cell_type": "markdown",
   "metadata": {
    "deletable": false,
    "editable": false,
    "nbgrader": {
     "cell_type": "markdown",
     "checksum": "86da2e763cc281e40839150d05cf4fce",
     "grade": false,
     "grade_id": "cell-a6f3b25eae9b50da",
     "locked": true,
     "schema_version": 3,
     "solution": false,
     "task": false
    }
   },
   "source": [
    "<div class=\"alert alert-info\"><b>Exercise 2: Imputing Missing Values </b> \n",
    "\n",
    "The first step in our preprocessing routine is to handle missing values in the feature matrix ```X```. Write the code to instantiate a ```SimpleImputer``` with a ```most_frequent``` strategy, naming it ```imputer```. Then, test the imputer transforming ```X```, and store the transformed data in a new DataFrame called ```X_imputed```.\n",
    "\n",
    "<br><i>[0.5 points]</i>\n",
    "</div>\n"
   ]
  },
  {
   "cell_type": "code",
   "execution_count": 8,
   "metadata": {
    "ExecuteTime": {
     "end_time": "2024-09-25T16:13:27.695074Z",
     "start_time": "2024-09-25T16:13:27.690303Z"
    },
    "deletable": false,
    "nbgrader": {
     "cell_type": "code",
     "checksum": "e312a6da82f8c4bc37df98d9182e9662",
     "grade": false,
     "grade_id": "ex2",
     "locked": false,
     "schema_version": 3,
     "solution": true,
     "task": false
    }
   },
   "outputs": [
    {
     "data": {
      "text/html": [
       "<div>\n",
       "<style scoped>\n",
       "    .dataframe tbody tr th:only-of-type {\n",
       "        vertical-align: middle;\n",
       "    }\n",
       "\n",
       "    .dataframe tbody tr th {\n",
       "        vertical-align: top;\n",
       "    }\n",
       "\n",
       "    .dataframe thead th {\n",
       "        text-align: right;\n",
       "    }\n",
       "</style>\n",
       "<table border=\"1\" class=\"dataframe\">\n",
       "  <thead>\n",
       "    <tr style=\"text-align: right;\">\n",
       "      <th></th>\n",
       "      <th>Name</th>\n",
       "      <th>Gender</th>\n",
       "      <th>Eye color</th>\n",
       "      <th>Race</th>\n",
       "      <th>Hair color</th>\n",
       "      <th>Height</th>\n",
       "      <th>Publisher</th>\n",
       "      <th>Skin color</th>\n",
       "      <th>Alignment</th>\n",
       "      <th>Weight</th>\n",
       "      <th>Has Superpowers</th>\n",
       "      <th>Power Level</th>\n",
       "      <th>Intelligence Level</th>\n",
       "    </tr>\n",
       "  </thead>\n",
       "  <tbody>\n",
       "    <tr>\n",
       "      <th>0</th>\n",
       "      <td>A-Bomb</td>\n",
       "      <td>Male</td>\n",
       "      <td>yellow</td>\n",
       "      <td>Human</td>\n",
       "      <td>No Hair</td>\n",
       "      <td>203.0</td>\n",
       "      <td>Marvel Comics</td>\n",
       "      <td>green</td>\n",
       "      <td>good</td>\n",
       "      <td>441.0</td>\n",
       "      <td>False</td>\n",
       "      <td>Extremely Powerful</td>\n",
       "      <td>Super-Genius</td>\n",
       "    </tr>\n",
       "    <tr>\n",
       "      <th>1</th>\n",
       "      <td>Abe Sapien</td>\n",
       "      <td>Male</td>\n",
       "      <td>blue</td>\n",
       "      <td>Icthyo Sapien</td>\n",
       "      <td>No Hair</td>\n",
       "      <td>191.0</td>\n",
       "      <td>Dark Horse Comics</td>\n",
       "      <td>blue</td>\n",
       "      <td>good</td>\n",
       "      <td>65.0</td>\n",
       "      <td>True</td>\n",
       "      <td>Below Average</td>\n",
       "      <td>Average Intelligence</td>\n",
       "    </tr>\n",
       "    <tr>\n",
       "      <th>2</th>\n",
       "      <td>Abin Sur</td>\n",
       "      <td>Male</td>\n",
       "      <td>blue</td>\n",
       "      <td>Ungaran</td>\n",
       "      <td>No Hair</td>\n",
       "      <td>185.0</td>\n",
       "      <td>DC Comics</td>\n",
       "      <td>red</td>\n",
       "      <td>good</td>\n",
       "      <td>90.0</td>\n",
       "      <td>True</td>\n",
       "      <td>Average</td>\n",
       "      <td>Low Intelligence</td>\n",
       "    </tr>\n",
       "    <tr>\n",
       "      <th>3</th>\n",
       "      <td>Abomination</td>\n",
       "      <td>Male</td>\n",
       "      <td>green</td>\n",
       "      <td>Human / Radiation</td>\n",
       "      <td>No Hair</td>\n",
       "      <td>203.0</td>\n",
       "      <td>Marvel Comics</td>\n",
       "      <td>green</td>\n",
       "      <td>bad</td>\n",
       "      <td>441.0</td>\n",
       "      <td>False</td>\n",
       "      <td>Extremely Powerful</td>\n",
       "      <td>Smart</td>\n",
       "    </tr>\n",
       "    <tr>\n",
       "      <th>4</th>\n",
       "      <td>Abraxas</td>\n",
       "      <td>Male</td>\n",
       "      <td>blue</td>\n",
       "      <td>Cosmic Entity</td>\n",
       "      <td>Black</td>\n",
       "      <td>-99.0</td>\n",
       "      <td>Marvel Comics</td>\n",
       "      <td>green</td>\n",
       "      <td>bad</td>\n",
       "      <td>-99.0</td>\n",
       "      <td>False</td>\n",
       "      <td>Extremely Powerful</td>\n",
       "      <td>Genius</td>\n",
       "    </tr>\n",
       "    <tr>\n",
       "      <th>...</th>\n",
       "      <td>...</td>\n",
       "      <td>...</td>\n",
       "      <td>...</td>\n",
       "      <td>...</td>\n",
       "      <td>...</td>\n",
       "      <td>...</td>\n",
       "      <td>...</td>\n",
       "      <td>...</td>\n",
       "      <td>...</td>\n",
       "      <td>...</td>\n",
       "      <td>...</td>\n",
       "      <td>...</td>\n",
       "      <td>...</td>\n",
       "    </tr>\n",
       "    <tr>\n",
       "      <th>729</th>\n",
       "      <td>Yellowjacket II</td>\n",
       "      <td>Female</td>\n",
       "      <td>blue</td>\n",
       "      <td>Human</td>\n",
       "      <td>Strawberry Blond</td>\n",
       "      <td>165.0</td>\n",
       "      <td>Marvel Comics</td>\n",
       "      <td>green</td>\n",
       "      <td>good</td>\n",
       "      <td>52.0</td>\n",
       "      <td>True</td>\n",
       "      <td>Below Average</td>\n",
       "      <td>Genius</td>\n",
       "    </tr>\n",
       "    <tr>\n",
       "      <th>730</th>\n",
       "      <td>Ymir</td>\n",
       "      <td>Male</td>\n",
       "      <td>white</td>\n",
       "      <td>Frost Giant</td>\n",
       "      <td>No Hair</td>\n",
       "      <td>304.8</td>\n",
       "      <td>Marvel Comics</td>\n",
       "      <td>white</td>\n",
       "      <td>good</td>\n",
       "      <td>-99.0</td>\n",
       "      <td>True</td>\n",
       "      <td>Extremely Powerful</td>\n",
       "      <td>Smart</td>\n",
       "    </tr>\n",
       "    <tr>\n",
       "      <th>731</th>\n",
       "      <td>Yoda</td>\n",
       "      <td>Male</td>\n",
       "      <td>brown</td>\n",
       "      <td>Yoda's species</td>\n",
       "      <td>White</td>\n",
       "      <td>66.0</td>\n",
       "      <td>George Lucas</td>\n",
       "      <td>green</td>\n",
       "      <td>good</td>\n",
       "      <td>17.0</td>\n",
       "      <td>False</td>\n",
       "      <td>Above Average</td>\n",
       "      <td>Super-Genius</td>\n",
       "    </tr>\n",
       "    <tr>\n",
       "      <th>732</th>\n",
       "      <td>Zatanna</td>\n",
       "      <td>Female</td>\n",
       "      <td>blue</td>\n",
       "      <td>Human</td>\n",
       "      <td>Black</td>\n",
       "      <td>170.0</td>\n",
       "      <td>DC Comics</td>\n",
       "      <td>green</td>\n",
       "      <td>good</td>\n",
       "      <td>57.0</td>\n",
       "      <td>True</td>\n",
       "      <td>Average</td>\n",
       "      <td>Smart</td>\n",
       "    </tr>\n",
       "    <tr>\n",
       "      <th>733</th>\n",
       "      <td>Zoom</td>\n",
       "      <td>Male</td>\n",
       "      <td>red</td>\n",
       "      <td>Human</td>\n",
       "      <td>Brown</td>\n",
       "      <td>185.0</td>\n",
       "      <td>DC Comics</td>\n",
       "      <td>green</td>\n",
       "      <td>bad</td>\n",
       "      <td>81.0</td>\n",
       "      <td>True</td>\n",
       "      <td>Below Average</td>\n",
       "      <td>Genius</td>\n",
       "    </tr>\n",
       "  </tbody>\n",
       "</table>\n",
       "<p>734 rows × 13 columns</p>\n",
       "</div>"
      ],
      "text/plain": [
       "                Name  Gender Eye color               Race        Hair color  \\\n",
       "0             A-Bomb    Male    yellow              Human           No Hair   \n",
       "1         Abe Sapien    Male      blue      Icthyo Sapien           No Hair   \n",
       "2           Abin Sur    Male      blue            Ungaran           No Hair   \n",
       "3        Abomination    Male     green  Human / Radiation           No Hair   \n",
       "4            Abraxas    Male      blue      Cosmic Entity             Black   \n",
       "..               ...     ...       ...                ...               ...   \n",
       "729  Yellowjacket II  Female      blue              Human  Strawberry Blond   \n",
       "730             Ymir    Male     white        Frost Giant           No Hair   \n",
       "731             Yoda    Male     brown     Yoda's species             White   \n",
       "732          Zatanna  Female      blue              Human             Black   \n",
       "733             Zoom    Male       red              Human             Brown   \n",
       "\n",
       "    Height          Publisher Skin color Alignment Weight Has Superpowers  \\\n",
       "0    203.0      Marvel Comics      green      good  441.0           False   \n",
       "1    191.0  Dark Horse Comics       blue      good   65.0            True   \n",
       "2    185.0          DC Comics        red      good   90.0            True   \n",
       "3    203.0      Marvel Comics      green       bad  441.0           False   \n",
       "4    -99.0      Marvel Comics      green       bad  -99.0           False   \n",
       "..     ...                ...        ...       ...    ...             ...   \n",
       "729  165.0      Marvel Comics      green      good   52.0            True   \n",
       "730  304.8      Marvel Comics      white      good  -99.0            True   \n",
       "731   66.0       George Lucas      green      good   17.0           False   \n",
       "732  170.0          DC Comics      green      good   57.0            True   \n",
       "733  185.0          DC Comics      green       bad   81.0            True   \n",
       "\n",
       "            Power Level    Intelligence Level  \n",
       "0    Extremely Powerful          Super-Genius  \n",
       "1         Below Average  Average Intelligence  \n",
       "2               Average      Low Intelligence  \n",
       "3    Extremely Powerful                 Smart  \n",
       "4    Extremely Powerful                Genius  \n",
       "..                  ...                   ...  \n",
       "729       Below Average                Genius  \n",
       "730  Extremely Powerful                 Smart  \n",
       "731       Above Average          Super-Genius  \n",
       "732             Average                 Smart  \n",
       "733       Below Average                Genius  \n",
       "\n",
       "[734 rows x 13 columns]"
      ]
     },
     "execution_count": 8,
     "metadata": {},
     "output_type": "execute_result"
    }
   ],
   "source": [
    "# YOUR CODE HERE\n",
    "from sklearn.impute import SimpleImputer\n",
    "imputer=SimpleImputer(strategy='most_frequent')\n",
    "X_imputed=imputer.fit_transform(df)\n",
    "X_imputed"
   ]
  },
  {
   "cell_type": "code",
   "execution_count": null,
   "metadata": {
    "ExecuteTime": {
     "end_time": "2024-09-25T16:13:27.735707Z",
     "start_time": "2024-09-25T16:13:27.733506Z"
    },
    "deletable": false,
    "editable": false,
    "nbgrader": {
     "cell_type": "code",
     "checksum": "dce4ce98b9aa0e83a8639da4e094c460",
     "grade": true,
     "grade_id": "test2_1",
     "locked": true,
     "points": 0.25,
     "schema_version": 3,
     "solution": false,
     "task": false
    }
   },
   "outputs": [],
   "source": [
    "# LEAVE BLANK"
   ]
  },
  {
   "cell_type": "code",
   "execution_count": null,
   "metadata": {
    "ExecuteTime": {
     "end_time": "2024-09-25T16:13:27.781155Z",
     "start_time": "2024-09-25T16:13:27.778626Z"
    },
    "deletable": false,
    "editable": false,
    "nbgrader": {
     "cell_type": "code",
     "checksum": "1475602122f5703ca985c52402000b8d",
     "grade": true,
     "grade_id": "test2_2",
     "locked": true,
     "points": 0.25,
     "schema_version": 3,
     "solution": false,
     "task": false
    }
   },
   "outputs": [],
   "source": [
    "# LEAVE BLANK"
   ]
  },
  {
   "cell_type": "markdown",
   "metadata": {
    "deletable": false,
    "editable": false,
    "id": "evERSqB9MPid",
    "nbgrader": {
     "cell_type": "markdown",
     "checksum": "f4fd568cc7672b2e00f832744a562e1d",
     "grade": false,
     "grade_id": "cell-c7c37aaa2f33b36",
     "locked": true,
     "schema_version": 3,
     "solution": false,
     "task": false
    }
   },
   "source": [
    "<div class=\"alert alert-info\"><b>Exercise 3: Encoding Categorical Features</b> \n",
    "\n",
    "Now that our dataset is free of missing values, let's handle the categorical columns. Create a `OneHotEncoder` object named `one_hot_encoder`. Next, create a DataFrame called `X_categorical` containing the following columns from `X_imputed`: `['Gender', 'Eye color', 'Race', 'Hair color', 'Skin color']`. \n",
    "\n",
    "Test the encoder by transforming the features of `X_categorical`, and store the transformed data in a new DataFrame named `X_categorical_encoded`.\n",
    "\n",
    "<br><i>[0.75 points]</i>\n",
    "</div>"
   ]
  },
  {
   "cell_type": "code",
   "execution_count": 13,
   "metadata": {
    "ExecuteTime": {
     "end_time": "2024-09-25T16:13:27.833244Z",
     "start_time": "2024-09-25T16:13:27.825751Z"
    },
    "deletable": false,
    "nbgrader": {
     "cell_type": "code",
     "checksum": "69b315830f2239f6d81c0964227610ff",
     "grade": false,
     "grade_id": "ex3",
     "locked": false,
     "schema_version": 3,
     "solution": true,
     "task": false
    }
   },
   "outputs": [
    {
     "data": {
      "text/html": [
       "<div>\n",
       "<style scoped>\n",
       "    .dataframe tbody tr th:only-of-type {\n",
       "        vertical-align: middle;\n",
       "    }\n",
       "\n",
       "    .dataframe tbody tr th {\n",
       "        vertical-align: top;\n",
       "    }\n",
       "\n",
       "    .dataframe thead th {\n",
       "        text-align: right;\n",
       "    }\n",
       "</style>\n",
       "<table border=\"1\" class=\"dataframe\">\n",
       "  <thead>\n",
       "    <tr style=\"text-align: right;\">\n",
       "      <th></th>\n",
       "      <th>Gender_Female</th>\n",
       "      <th>Gender_Male</th>\n",
       "      <th>Eye color_amber</th>\n",
       "      <th>Eye color_black</th>\n",
       "      <th>Eye color_blue</th>\n",
       "      <th>Eye color_blue / white</th>\n",
       "      <th>Eye color_bown</th>\n",
       "      <th>Eye color_brown</th>\n",
       "      <th>Eye color_gold</th>\n",
       "      <th>Eye color_green</th>\n",
       "      <th>...</th>\n",
       "      <th>Skin color_grey</th>\n",
       "      <th>Skin color_orange</th>\n",
       "      <th>Skin color_orange / white</th>\n",
       "      <th>Skin color_pink</th>\n",
       "      <th>Skin color_purple</th>\n",
       "      <th>Skin color_red</th>\n",
       "      <th>Skin color_red / black</th>\n",
       "      <th>Skin color_silver</th>\n",
       "      <th>Skin color_white</th>\n",
       "      <th>Skin color_yellow</th>\n",
       "    </tr>\n",
       "  </thead>\n",
       "  <tbody>\n",
       "    <tr>\n",
       "      <th>0</th>\n",
       "      <td>0.0</td>\n",
       "      <td>1.0</td>\n",
       "      <td>0.0</td>\n",
       "      <td>0.0</td>\n",
       "      <td>0.0</td>\n",
       "      <td>0.0</td>\n",
       "      <td>0.0</td>\n",
       "      <td>0.0</td>\n",
       "      <td>0.0</td>\n",
       "      <td>0.0</td>\n",
       "      <td>...</td>\n",
       "      <td>0.0</td>\n",
       "      <td>0.0</td>\n",
       "      <td>0.0</td>\n",
       "      <td>0.0</td>\n",
       "      <td>0.0</td>\n",
       "      <td>0.0</td>\n",
       "      <td>0.0</td>\n",
       "      <td>0.0</td>\n",
       "      <td>0.0</td>\n",
       "      <td>0.0</td>\n",
       "    </tr>\n",
       "    <tr>\n",
       "      <th>1</th>\n",
       "      <td>0.0</td>\n",
       "      <td>1.0</td>\n",
       "      <td>0.0</td>\n",
       "      <td>0.0</td>\n",
       "      <td>1.0</td>\n",
       "      <td>0.0</td>\n",
       "      <td>0.0</td>\n",
       "      <td>0.0</td>\n",
       "      <td>0.0</td>\n",
       "      <td>0.0</td>\n",
       "      <td>...</td>\n",
       "      <td>0.0</td>\n",
       "      <td>0.0</td>\n",
       "      <td>0.0</td>\n",
       "      <td>0.0</td>\n",
       "      <td>0.0</td>\n",
       "      <td>0.0</td>\n",
       "      <td>0.0</td>\n",
       "      <td>0.0</td>\n",
       "      <td>0.0</td>\n",
       "      <td>0.0</td>\n",
       "    </tr>\n",
       "    <tr>\n",
       "      <th>2</th>\n",
       "      <td>0.0</td>\n",
       "      <td>1.0</td>\n",
       "      <td>0.0</td>\n",
       "      <td>0.0</td>\n",
       "      <td>1.0</td>\n",
       "      <td>0.0</td>\n",
       "      <td>0.0</td>\n",
       "      <td>0.0</td>\n",
       "      <td>0.0</td>\n",
       "      <td>0.0</td>\n",
       "      <td>...</td>\n",
       "      <td>0.0</td>\n",
       "      <td>0.0</td>\n",
       "      <td>0.0</td>\n",
       "      <td>0.0</td>\n",
       "      <td>0.0</td>\n",
       "      <td>1.0</td>\n",
       "      <td>0.0</td>\n",
       "      <td>0.0</td>\n",
       "      <td>0.0</td>\n",
       "      <td>0.0</td>\n",
       "    </tr>\n",
       "    <tr>\n",
       "      <th>3</th>\n",
       "      <td>0.0</td>\n",
       "      <td>1.0</td>\n",
       "      <td>0.0</td>\n",
       "      <td>0.0</td>\n",
       "      <td>0.0</td>\n",
       "      <td>0.0</td>\n",
       "      <td>0.0</td>\n",
       "      <td>0.0</td>\n",
       "      <td>0.0</td>\n",
       "      <td>1.0</td>\n",
       "      <td>...</td>\n",
       "      <td>0.0</td>\n",
       "      <td>0.0</td>\n",
       "      <td>0.0</td>\n",
       "      <td>0.0</td>\n",
       "      <td>0.0</td>\n",
       "      <td>0.0</td>\n",
       "      <td>0.0</td>\n",
       "      <td>0.0</td>\n",
       "      <td>0.0</td>\n",
       "      <td>0.0</td>\n",
       "    </tr>\n",
       "    <tr>\n",
       "      <th>4</th>\n",
       "      <td>0.0</td>\n",
       "      <td>1.0</td>\n",
       "      <td>0.0</td>\n",
       "      <td>0.0</td>\n",
       "      <td>1.0</td>\n",
       "      <td>0.0</td>\n",
       "      <td>0.0</td>\n",
       "      <td>0.0</td>\n",
       "      <td>0.0</td>\n",
       "      <td>0.0</td>\n",
       "      <td>...</td>\n",
       "      <td>0.0</td>\n",
       "      <td>0.0</td>\n",
       "      <td>0.0</td>\n",
       "      <td>0.0</td>\n",
       "      <td>0.0</td>\n",
       "      <td>0.0</td>\n",
       "      <td>0.0</td>\n",
       "      <td>0.0</td>\n",
       "      <td>0.0</td>\n",
       "      <td>0.0</td>\n",
       "    </tr>\n",
       "    <tr>\n",
       "      <th>...</th>\n",
       "      <td>...</td>\n",
       "      <td>...</td>\n",
       "      <td>...</td>\n",
       "      <td>...</td>\n",
       "      <td>...</td>\n",
       "      <td>...</td>\n",
       "      <td>...</td>\n",
       "      <td>...</td>\n",
       "      <td>...</td>\n",
       "      <td>...</td>\n",
       "      <td>...</td>\n",
       "      <td>...</td>\n",
       "      <td>...</td>\n",
       "      <td>...</td>\n",
       "      <td>...</td>\n",
       "      <td>...</td>\n",
       "      <td>...</td>\n",
       "      <td>...</td>\n",
       "      <td>...</td>\n",
       "      <td>...</td>\n",
       "      <td>...</td>\n",
       "    </tr>\n",
       "    <tr>\n",
       "      <th>729</th>\n",
       "      <td>1.0</td>\n",
       "      <td>0.0</td>\n",
       "      <td>0.0</td>\n",
       "      <td>0.0</td>\n",
       "      <td>1.0</td>\n",
       "      <td>0.0</td>\n",
       "      <td>0.0</td>\n",
       "      <td>0.0</td>\n",
       "      <td>0.0</td>\n",
       "      <td>0.0</td>\n",
       "      <td>...</td>\n",
       "      <td>0.0</td>\n",
       "      <td>0.0</td>\n",
       "      <td>0.0</td>\n",
       "      <td>0.0</td>\n",
       "      <td>0.0</td>\n",
       "      <td>0.0</td>\n",
       "      <td>0.0</td>\n",
       "      <td>0.0</td>\n",
       "      <td>0.0</td>\n",
       "      <td>0.0</td>\n",
       "    </tr>\n",
       "    <tr>\n",
       "      <th>730</th>\n",
       "      <td>0.0</td>\n",
       "      <td>1.0</td>\n",
       "      <td>0.0</td>\n",
       "      <td>0.0</td>\n",
       "      <td>0.0</td>\n",
       "      <td>0.0</td>\n",
       "      <td>0.0</td>\n",
       "      <td>0.0</td>\n",
       "      <td>0.0</td>\n",
       "      <td>0.0</td>\n",
       "      <td>...</td>\n",
       "      <td>0.0</td>\n",
       "      <td>0.0</td>\n",
       "      <td>0.0</td>\n",
       "      <td>0.0</td>\n",
       "      <td>0.0</td>\n",
       "      <td>0.0</td>\n",
       "      <td>0.0</td>\n",
       "      <td>0.0</td>\n",
       "      <td>1.0</td>\n",
       "      <td>0.0</td>\n",
       "    </tr>\n",
       "    <tr>\n",
       "      <th>731</th>\n",
       "      <td>0.0</td>\n",
       "      <td>1.0</td>\n",
       "      <td>0.0</td>\n",
       "      <td>0.0</td>\n",
       "      <td>0.0</td>\n",
       "      <td>0.0</td>\n",
       "      <td>0.0</td>\n",
       "      <td>1.0</td>\n",
       "      <td>0.0</td>\n",
       "      <td>0.0</td>\n",
       "      <td>...</td>\n",
       "      <td>0.0</td>\n",
       "      <td>0.0</td>\n",
       "      <td>0.0</td>\n",
       "      <td>0.0</td>\n",
       "      <td>0.0</td>\n",
       "      <td>0.0</td>\n",
       "      <td>0.0</td>\n",
       "      <td>0.0</td>\n",
       "      <td>0.0</td>\n",
       "      <td>0.0</td>\n",
       "    </tr>\n",
       "    <tr>\n",
       "      <th>732</th>\n",
       "      <td>1.0</td>\n",
       "      <td>0.0</td>\n",
       "      <td>0.0</td>\n",
       "      <td>0.0</td>\n",
       "      <td>1.0</td>\n",
       "      <td>0.0</td>\n",
       "      <td>0.0</td>\n",
       "      <td>0.0</td>\n",
       "      <td>0.0</td>\n",
       "      <td>0.0</td>\n",
       "      <td>...</td>\n",
       "      <td>0.0</td>\n",
       "      <td>0.0</td>\n",
       "      <td>0.0</td>\n",
       "      <td>0.0</td>\n",
       "      <td>0.0</td>\n",
       "      <td>0.0</td>\n",
       "      <td>0.0</td>\n",
       "      <td>0.0</td>\n",
       "      <td>0.0</td>\n",
       "      <td>0.0</td>\n",
       "    </tr>\n",
       "    <tr>\n",
       "      <th>733</th>\n",
       "      <td>0.0</td>\n",
       "      <td>1.0</td>\n",
       "      <td>0.0</td>\n",
       "      <td>0.0</td>\n",
       "      <td>0.0</td>\n",
       "      <td>0.0</td>\n",
       "      <td>0.0</td>\n",
       "      <td>0.0</td>\n",
       "      <td>0.0</td>\n",
       "      <td>0.0</td>\n",
       "      <td>...</td>\n",
       "      <td>0.0</td>\n",
       "      <td>0.0</td>\n",
       "      <td>0.0</td>\n",
       "      <td>0.0</td>\n",
       "      <td>0.0</td>\n",
       "      <td>0.0</td>\n",
       "      <td>0.0</td>\n",
       "      <td>0.0</td>\n",
       "      <td>0.0</td>\n",
       "      <td>0.0</td>\n",
       "    </tr>\n",
       "  </tbody>\n",
       "</table>\n",
       "<p>734 rows × 130 columns</p>\n",
       "</div>"
      ],
      "text/plain": [
       "     Gender_Female  Gender_Male  Eye color_amber  Eye color_black  \\\n",
       "0              0.0          1.0              0.0              0.0   \n",
       "1              0.0          1.0              0.0              0.0   \n",
       "2              0.0          1.0              0.0              0.0   \n",
       "3              0.0          1.0              0.0              0.0   \n",
       "4              0.0          1.0              0.0              0.0   \n",
       "..             ...          ...              ...              ...   \n",
       "729            1.0          0.0              0.0              0.0   \n",
       "730            0.0          1.0              0.0              0.0   \n",
       "731            0.0          1.0              0.0              0.0   \n",
       "732            1.0          0.0              0.0              0.0   \n",
       "733            0.0          1.0              0.0              0.0   \n",
       "\n",
       "     Eye color_blue  Eye color_blue / white  Eye color_bown  Eye color_brown  \\\n",
       "0               0.0                     0.0             0.0              0.0   \n",
       "1               1.0                     0.0             0.0              0.0   \n",
       "2               1.0                     0.0             0.0              0.0   \n",
       "3               0.0                     0.0             0.0              0.0   \n",
       "4               1.0                     0.0             0.0              0.0   \n",
       "..              ...                     ...             ...              ...   \n",
       "729             1.0                     0.0             0.0              0.0   \n",
       "730             0.0                     0.0             0.0              0.0   \n",
       "731             0.0                     0.0             0.0              1.0   \n",
       "732             1.0                     0.0             0.0              0.0   \n",
       "733             0.0                     0.0             0.0              0.0   \n",
       "\n",
       "     Eye color_gold  Eye color_green  ...  Skin color_grey  Skin color_orange  \\\n",
       "0               0.0              0.0  ...              0.0                0.0   \n",
       "1               0.0              0.0  ...              0.0                0.0   \n",
       "2               0.0              0.0  ...              0.0                0.0   \n",
       "3               0.0              1.0  ...              0.0                0.0   \n",
       "4               0.0              0.0  ...              0.0                0.0   \n",
       "..              ...              ...  ...              ...                ...   \n",
       "729             0.0              0.0  ...              0.0                0.0   \n",
       "730             0.0              0.0  ...              0.0                0.0   \n",
       "731             0.0              0.0  ...              0.0                0.0   \n",
       "732             0.0              0.0  ...              0.0                0.0   \n",
       "733             0.0              0.0  ...              0.0                0.0   \n",
       "\n",
       "     Skin color_orange / white  Skin color_pink  Skin color_purple  \\\n",
       "0                          0.0              0.0                0.0   \n",
       "1                          0.0              0.0                0.0   \n",
       "2                          0.0              0.0                0.0   \n",
       "3                          0.0              0.0                0.0   \n",
       "4                          0.0              0.0                0.0   \n",
       "..                         ...              ...                ...   \n",
       "729                        0.0              0.0                0.0   \n",
       "730                        0.0              0.0                0.0   \n",
       "731                        0.0              0.0                0.0   \n",
       "732                        0.0              0.0                0.0   \n",
       "733                        0.0              0.0                0.0   \n",
       "\n",
       "     Skin color_red  Skin color_red / black  Skin color_silver  \\\n",
       "0               0.0                     0.0                0.0   \n",
       "1               0.0                     0.0                0.0   \n",
       "2               1.0                     0.0                0.0   \n",
       "3               0.0                     0.0                0.0   \n",
       "4               0.0                     0.0                0.0   \n",
       "..              ...                     ...                ...   \n",
       "729             0.0                     0.0                0.0   \n",
       "730             0.0                     0.0                0.0   \n",
       "731             0.0                     0.0                0.0   \n",
       "732             0.0                     0.0                0.0   \n",
       "733             0.0                     0.0                0.0   \n",
       "\n",
       "     Skin color_white  Skin color_yellow  \n",
       "0                 0.0                0.0  \n",
       "1                 0.0                0.0  \n",
       "2                 0.0                0.0  \n",
       "3                 0.0                0.0  \n",
       "4                 0.0                0.0  \n",
       "..                ...                ...  \n",
       "729               0.0                0.0  \n",
       "730               1.0                0.0  \n",
       "731               0.0                0.0  \n",
       "732               0.0                0.0  \n",
       "733               0.0                0.0  \n",
       "\n",
       "[734 rows x 130 columns]"
      ]
     },
     "execution_count": 13,
     "metadata": {},
     "output_type": "execute_result"
    }
   ],
   "source": [
    "# YOUR CODE HERE\n",
    "from sklearn.preprocessing import OneHotEncoder\n",
    "one_hot_encoder = OneHotEncoder(sparse_output=False)\n",
    "X_categorical=X_imputed[['Gender','Eye color','Race','Hair color','Skin color']]\n",
    "X_categorical_encoded=one_hot_encoder.fit_transform(X_categorical)\n",
    "X_categorical_encoded\n"
   ]
  },
  {
   "cell_type": "code",
   "execution_count": null,
   "metadata": {
    "ExecuteTime": {
     "end_time": "2024-09-25T16:13:27.876850Z",
     "start_time": "2024-09-25T16:13:27.874663Z"
    },
    "deletable": false,
    "editable": false,
    "nbgrader": {
     "cell_type": "code",
     "checksum": "a75ee900d85728951e8b462c9756e4a3",
     "grade": true,
     "grade_id": "test3_1",
     "locked": true,
     "points": 0.25,
     "schema_version": 3,
     "solution": false,
     "task": false
    }
   },
   "outputs": [],
   "source": [
    "# LEAVE BLANK"
   ]
  },
  {
   "cell_type": "code",
   "execution_count": null,
   "metadata": {
    "ExecuteTime": {
     "end_time": "2024-09-25T16:13:27.922580Z",
     "start_time": "2024-09-25T16:13:27.919729Z"
    },
    "deletable": false,
    "editable": false,
    "nbgrader": {
     "cell_type": "code",
     "checksum": "d97eb6081c645f993eefea334d79e585",
     "grade": true,
     "grade_id": "test3_2",
     "locked": true,
     "points": 0.25,
     "schema_version": 3,
     "solution": false,
     "task": false
    }
   },
   "outputs": [],
   "source": [
    "# LEAVE BLANK"
   ]
  },
  {
   "cell_type": "code",
   "execution_count": null,
   "metadata": {
    "ExecuteTime": {
     "end_time": "2024-09-25T16:13:27.967738Z",
     "start_time": "2024-09-25T16:13:27.965682Z"
    },
    "deletable": false,
    "editable": false,
    "nbgrader": {
     "cell_type": "code",
     "checksum": "7313a16a7b9ef1024bde57f253545f3f",
     "grade": true,
     "grade_id": "cell-58b7c490fa3f409b",
     "locked": true,
     "points": 0.25,
     "schema_version": 3,
     "solution": false,
     "task": false
    }
   },
   "outputs": [],
   "source": [
    "# LEAVE BLANK"
   ]
  },
  {
   "cell_type": "markdown",
   "metadata": {
    "deletable": false,
    "editable": false,
    "nbgrader": {
     "cell_type": "markdown",
     "checksum": "5e13ece21062726f8d53f029be08cc76",
     "grade": false,
     "grade_id": "cell-ccef3f102806a3a6",
     "locked": true,
     "schema_version": 3,
     "solution": false,
     "task": false
    }
   },
   "source": [
    "<div class=\"alert alert-info\"><b>Exercise 4: Encoding Ordinal Features </b> \n",
    "\n",
    "Next, repeat the process for the ordinal features `['Power Level', 'Intelligence Level']`. First, create a new DataFrame called `X_ordinal` containing these two columns. Then, instantiate an `OrdinalEncoder` and name it `ordinal_encoder`. \n",
    "\n",
    "Test the encoder by transforming the `X_ordinal` DataFrame, and store the transformed data in a new DataFrame called `X_ordinal_encoded`.\n",
    "\n",
    "<br><i>[0.75 points]</i>\n",
    "</div>\n",
    "\n",
    "<div class=\"alert alert-warning\">\n",
    "    \n",
    "Consider that the integer values assigned to each label should align with a meaningful interpretation of the label's significance.\n",
    "\n",
    "</div>"
   ]
  },
  {
   "cell_type": "code",
   "execution_count": null,
   "metadata": {
    "ExecuteTime": {
     "end_time": "2024-09-25T16:13:28.016989Z",
     "start_time": "2024-09-25T16:13:28.013066Z"
    },
    "deletable": false,
    "nbgrader": {
     "cell_type": "code",
     "checksum": "00ef2091bcd0c6ccc4ed66e901f1fff9",
     "grade": false,
     "grade_id": "ex4",
     "locked": false,
     "schema_version": 3,
     "solution": true,
     "task": false
    }
   },
   "outputs": [],
   "source": [
    "# YOUR CODE HERE\n",
    "from sklearn.preprocessing import OrdinalEncoder\n",
    "ordinal_features=[['Power Level','Intelligence Level']]"
   ]
  },
  {
   "cell_type": "code",
   "execution_count": null,
   "metadata": {
    "ExecuteTime": {
     "end_time": "2024-09-25T16:13:28.061709Z",
     "start_time": "2024-09-25T16:13:28.059398Z"
    },
    "deletable": false,
    "editable": false,
    "nbgrader": {
     "cell_type": "code",
     "checksum": "b17bd4ec4b5f3542195269b854037fab",
     "grade": true,
     "grade_id": "test4_1",
     "locked": true,
     "points": 0.5,
     "schema_version": 3,
     "solution": false,
     "task": false
    }
   },
   "outputs": [],
   "source": [
    "# LEAVE BLANK"
   ]
  },
  {
   "cell_type": "code",
   "execution_count": null,
   "metadata": {
    "ExecuteTime": {
     "end_time": "2024-09-25T16:13:28.105577Z",
     "start_time": "2024-09-25T16:13:28.103588Z"
    },
    "deletable": false,
    "editable": false,
    "nbgrader": {
     "cell_type": "code",
     "checksum": "06fbab0612fd581dc99cc8b78ae50153",
     "grade": true,
     "grade_id": "test4_2",
     "locked": true,
     "points": 0.25,
     "schema_version": 3,
     "solution": false,
     "task": false
    }
   },
   "outputs": [],
   "source": [
    "# LEAVE BLANK"
   ]
  },
  {
   "cell_type": "markdown",
   "metadata": {
    "deletable": false,
    "editable": false,
    "nbgrader": {
     "cell_type": "markdown",
     "checksum": "5214ccf8fb8d3d2cb0660a6150dec164",
     "grade": false,
     "grade_id": "cell-9f62321dd9372e29",
     "locked": true,
     "schema_version": 3,
     "solution": false,
     "task": false
    }
   },
   "source": [
    "<div class=\"alert alert-info\"><b>Exercise 5: Combining Feature Transformations </b> \n",
    "\n",
    "Now that we have confirmed the transformations for categorical and ordinal columns, let's use a `ColumnTransformer` to apply them in parallel. Instantiate a `ColumnTransformer` named `transformer`, including both the `OneHotEncoder` and `OrdinalEncoder`. Be sure to specify the correct column names for each transformer.\n",
    "\n",
    "Test your `transformer` by applying it to the `X_imputed` DataFrame, and store the transformed data in a new DataFrame called `X_encoded`.\n",
    "\n",
    "<br><i>[1 points]</i>\n",
    "</div>\n"
   ]
  },
  {
   "cell_type": "code",
   "execution_count": null,
   "metadata": {
    "ExecuteTime": {
     "end_time": "2024-09-25T16:13:28.156684Z",
     "start_time": "2024-09-25T16:13:28.148366Z"
    },
    "deletable": false,
    "nbgrader": {
     "cell_type": "code",
     "checksum": "bb47640b2984de2eac9bddf8c8c891c6",
     "grade": false,
     "grade_id": "ex5",
     "locked": false,
     "schema_version": 3,
     "solution": true,
     "task": false
    }
   },
   "outputs": [],
   "source": [
    "# YOUR CODE HERE"
   ]
  },
  {
   "cell_type": "code",
   "execution_count": null,
   "metadata": {
    "ExecuteTime": {
     "end_time": "2024-09-25T16:13:28.201986Z",
     "start_time": "2024-09-25T16:13:28.197666Z"
    },
    "deletable": false,
    "editable": false,
    "jupyter": {
     "outputs_hidden": false
    },
    "nbgrader": {
     "cell_type": "code",
     "checksum": "68c62ff4aa3f916e679f67af0307de91",
     "grade": true,
     "grade_id": "test5_1",
     "locked": true,
     "points": 0.4,
     "schema_version": 3,
     "solution": false,
     "task": false
    }
   },
   "outputs": [],
   "source": [
    "# LEAVE BLANK"
   ]
  },
  {
   "cell_type": "code",
   "execution_count": null,
   "metadata": {
    "ExecuteTime": {
     "end_time": "2024-09-25T16:13:28.248253Z",
     "start_time": "2024-09-25T16:13:28.246250Z"
    },
    "deletable": false,
    "editable": false,
    "nbgrader": {
     "cell_type": "code",
     "checksum": "f9ae67684e9c7510e7a7547538d2db3c",
     "grade": true,
     "grade_id": "test5_2",
     "locked": true,
     "points": 0.2,
     "schema_version": 3,
     "solution": false,
     "task": false
    }
   },
   "outputs": [],
   "source": [
    "# LEAVE BLANK"
   ]
  },
  {
   "cell_type": "code",
   "execution_count": null,
   "metadata": {
    "ExecuteTime": {
     "end_time": "2024-09-25T16:13:28.308861Z",
     "start_time": "2024-09-25T16:13:28.298435Z"
    },
    "deletable": false,
    "editable": false,
    "nbgrader": {
     "cell_type": "code",
     "checksum": "daa0c93065bc11fd0c17de0f3fd694af",
     "grade": true,
     "grade_id": "test5_3",
     "locked": true,
     "points": 0.4,
     "schema_version": 3,
     "solution": false,
     "task": false
    }
   },
   "outputs": [],
   "source": [
    "# LEAVE BLANK"
   ]
  },
  {
   "cell_type": "markdown",
   "metadata": {
    "deletable": false,
    "editable": false,
    "nbgrader": {
     "cell_type": "markdown",
     "checksum": "b7c4bc6e205096143496edcd58600ca2",
     "grade": false,
     "grade_id": "cell-86f80f00088e931d",
     "locked": true,
     "schema_version": 3,
     "solution": false,
     "task": false
    }
   },
   "source": [
    "<div class=\"alert alert-info\"><b>Exercise 6: Standardizing the Features </b> \n",
    "\n",
    "To prevent potential issues with feature scaling, we will standardize the features using a `StandardScaler`. First, instantiate a `StandardScaler` and assign it to the variable `scaler`. Then, test it by transforming the `X_encoded` DataFrame. Store the scaled data in a new DataFrame called `X_scaled`.\n",
    "\n",
    " <br><i>[0.5 points]</i>\n",
    "</div>"
   ]
  },
  {
   "cell_type": "code",
   "execution_count": null,
   "metadata": {
    "ExecuteTime": {
     "end_time": "2024-09-25T16:13:28.367475Z",
     "start_time": "2024-09-25T16:13:28.353614Z"
    },
    "deletable": false,
    "nbgrader": {
     "cell_type": "code",
     "checksum": "a5d70d0859a7e9513d16031567e1eb90",
     "grade": false,
     "grade_id": "ex6",
     "locked": false,
     "schema_version": 3,
     "solution": true,
     "task": false
    }
   },
   "outputs": [],
   "source": [
    "# YOUR CODE HERE"
   ]
  },
  {
   "cell_type": "code",
   "execution_count": null,
   "metadata": {
    "ExecuteTime": {
     "end_time": "2024-09-25T16:13:28.403788Z",
     "start_time": "2024-09-25T16:13:28.401270Z"
    },
    "deletable": false,
    "editable": false,
    "nbgrader": {
     "cell_type": "code",
     "checksum": "1f5fca22d2de320e3352ebd2ba6c9da0",
     "grade": true,
     "grade_id": "test6_1",
     "locked": true,
     "points": 0.25,
     "schema_version": 3,
     "solution": false,
     "task": false
    }
   },
   "outputs": [],
   "source": [
    "# LEAVE BLANK"
   ]
  },
  {
   "cell_type": "code",
   "execution_count": null,
   "metadata": {
    "ExecuteTime": {
     "end_time": "2024-09-25T16:13:28.450137Z",
     "start_time": "2024-09-25T16:13:28.446501Z"
    },
    "deletable": false,
    "editable": false,
    "nbgrader": {
     "cell_type": "code",
     "checksum": "7042906a63097a447edc0a93aa4cbb07",
     "grade": true,
     "grade_id": "test6_2",
     "locked": true,
     "points": 0.25,
     "schema_version": 3,
     "solution": false,
     "task": false
    }
   },
   "outputs": [],
   "source": [
    "# LEAVE BLANK"
   ]
  },
  {
   "cell_type": "markdown",
   "metadata": {
    "deletable": false,
    "editable": false,
    "id": "evERSqB9MPid",
    "nbgrader": {
     "cell_type": "markdown",
     "checksum": "b04c26e267d0b4efea4973ef077e1e5e",
     "grade": false,
     "grade_id": "cell-c7c37a1aa2f33b36",
     "locked": true,
     "schema_version": 3,
     "solution": false,
     "task": false
    }
   },
   "source": [
    "<div class=\"alert alert-info\"><b>Exercise 7: Building the Preprocessing Pipeline </b> \n",
    "\n",
    "To complete this part of the assignment, create a `Pipeline` named `pipe` that includes the imputer, transformer, and scaler from the previous exercises. Test the pipeline by transforming the original feature matrix `X`, and store the preprocessed data in a new DataFrame called `X_pipe`.\n",
    "\n",
    "<br><i>[1 points]</i>\n",
    "</div>\n",
    "\n",
    "<div class='alert alert-warning'>\n",
    "\n",
    "Be sure you apply the data transformations in the correct order.\n",
    "\n",
    "</div>"
   ]
  },
  {
   "cell_type": "code",
   "execution_count": null,
   "metadata": {
    "ExecuteTime": {
     "end_time": "2024-09-25T16:13:28.512003Z",
     "start_time": "2024-09-25T16:13:28.492651Z"
    },
    "deletable": false,
    "nbgrader": {
     "cell_type": "code",
     "checksum": "05ebfb30357af4a09ab8968990db619c",
     "grade": false,
     "grade_id": "ex7",
     "locked": false,
     "schema_version": 3,
     "solution": true,
     "task": false
    }
   },
   "outputs": [],
   "source": [
    "# YOUR CODE HERE"
   ]
  },
  {
   "cell_type": "code",
   "execution_count": null,
   "metadata": {
    "ExecuteTime": {
     "end_time": "2024-09-25T16:13:28.544483Z",
     "start_time": "2024-09-25T16:13:28.542805Z"
    },
    "deletable": false,
    "editable": false,
    "nbgrader": {
     "cell_type": "code",
     "checksum": "759ab0255722dd11069b2d6a92925047",
     "grade": true,
     "grade_id": "test7_1",
     "locked": true,
     "points": 0.25,
     "schema_version": 3,
     "solution": false,
     "task": false
    }
   },
   "outputs": [],
   "source": [
    "# LEAVE BLANK"
   ]
  },
  {
   "cell_type": "code",
   "execution_count": null,
   "metadata": {
    "ExecuteTime": {
     "end_time": "2024-09-25T16:13:28.589900Z",
     "start_time": "2024-09-25T16:13:28.587578Z"
    },
    "deletable": false,
    "editable": false,
    "nbgrader": {
     "cell_type": "code",
     "checksum": "4b4dd682e1b00a58de1d1feb3303bbaa",
     "grade": true,
     "grade_id": "test7_2",
     "locked": true,
     "points": 0.25,
     "schema_version": 3,
     "solution": false,
     "task": false
    }
   },
   "outputs": [],
   "source": [
    "# LEAVE BLANK"
   ]
  },
  {
   "cell_type": "code",
   "execution_count": null,
   "metadata": {
    "ExecuteTime": {
     "end_time": "2024-09-25T16:13:28.635987Z",
     "start_time": "2024-09-25T16:13:28.633835Z"
    },
    "deletable": false,
    "editable": false,
    "nbgrader": {
     "cell_type": "code",
     "checksum": "b05405708a77a506cbfc2f01ba4903f7",
     "grade": true,
     "grade_id": "test7_3",
     "locked": true,
     "points": 0.25,
     "schema_version": 3,
     "solution": false,
     "task": false
    }
   },
   "outputs": [],
   "source": [
    "# LEAVE BLANK"
   ]
  },
  {
   "cell_type": "code",
   "execution_count": null,
   "metadata": {
    "ExecuteTime": {
     "end_time": "2024-09-25T16:13:28.683930Z",
     "start_time": "2024-09-25T16:13:28.681474Z"
    },
    "deletable": false,
    "editable": false,
    "jupyter": {
     "outputs_hidden": false
    },
    "nbgrader": {
     "cell_type": "code",
     "checksum": "464944bfaff55f7798c11bcc548f3d6d",
     "grade": true,
     "grade_id": "test7_4",
     "locked": true,
     "points": 0.25,
     "schema_version": 3,
     "solution": false,
     "task": false
    }
   },
   "outputs": [],
   "source": [
    "# LEAVE BLANK"
   ]
  },
  {
   "cell_type": "markdown",
   "metadata": {
    "deletable": false,
    "editable": false,
    "id": "evERSqB9MPid",
    "nbgrader": {
     "cell_type": "markdown",
     "checksum": "c45f7c7c979edff46eeaebe942b67c85",
     "grade": false,
     "grade_id": "cell-c7c37a1aa2fjk33bhj36",
     "locked": true,
     "schema_version": 3,
     "solution": false,
     "task": false
    }
   },
   "source": [
    "<div class=\"alert alert-info\"><b>Exercise 8: End-to-End Preprocessing on a Complex Dataset </b> \n",
    "\n",
    "Now, apply everything you’ve learned to preprocess a more complex dataset. Execute the next cell to load a new dataset, `df`, which includes both numerical and categorical features, some of which are ordinal. This dataset also contains missing values and features that require scaling.\n",
    "\n",
    "**Your tasks are:**\n",
    "\n",
    "1. **Feature Selection and Engineering:**  \n",
    "   Create a feature matrix `X` and a target array `y` (using the `Alignment` variable). Drop any irrelevant columns and explain your reasoning for each column you choose to exclude. If you find it relevant, consider combining existing columns or creating new ones based on the dataset's features.\n",
    "\n",
    "2. **Encoding Categorical and Ordinal Features:**  \n",
    "   Identify the categorical and ordinal columns, and encode them using a `ColumnTransformer` to apply the transformations in parallel.\n",
    "\n",
    "3. **Handling Missing Data:**  \n",
    "   If there are missing values in your feature matrix, decide on an appropriate method to handle them (e.g., imputation).\n",
    "\n",
    "4. **Standardizing Features:**  \n",
    "   Assess whether standardization is necessary for your numerical features, and apply it if needed.\n",
    "\n",
    "5. **Building a Pipeline:**  \n",
    "   Create a `Pipeline` that integrates all the preprocessing steps you have applied.\n",
    "\n",
    "6. **Documentation:**\n",
    "   Remember that thoroughly documenting your code and clearly explaining why certain decisions were made—while also considering and justifying why other options were not chosen—will be highly evaluated.\n",
    "   \n",
    "\n",
    "\n",
    "\n",
    "<br><i>[5 points]</i>\n",
    "</div>\n",
    "\n"
   ]
  },
  {
   "cell_type": "code",
   "execution_count": 17,
   "metadata": {
    "ExecuteTime": {
     "end_time": "2024-09-25T16:13:29.098631Z",
     "start_time": "2024-09-25T16:13:28.728080Z"
    },
    "deletable": false,
    "editable": false,
    "nbgrader": {
     "cell_type": "code",
     "checksum": "769f37705efa948ad18a2fa0a9704a3c",
     "grade": false,
     "grade_id": "cell-1c558e3e7a3e6e66",
     "locked": true,
     "schema_version": 3,
     "solution": false,
     "task": false
    }
   },
   "outputs": [],
   "source": [
    "# DO NOT MODIFY NOR ADD CODE TO THIS CELL\n",
    "\n",
    "df = pd.read_csv('https://raw.githubusercontent.com/jnin/information-systems/refs/heads/main/data/superheroes_complete.csv')"
   ]
  },
  {
   "cell_type": "code",
   "execution_count": 19,
   "metadata": {
    "ExecuteTime": {
     "end_time": "2024-09-25T16:15:17.022765Z",
     "start_time": "2024-09-25T16:15:16.249897Z"
    },
    "deletable": false,
    "id": "rnxOTovpEqpu",
    "nbgrader": {
     "cell_type": "code",
     "checksum": "afbce71d8bcd1c8c6a0c2dd3c6e9a686",
     "grade": true,
     "grade_id": "ex8",
     "locked": false,
     "points": 5,
     "schema_version": 3,
     "solution": true,
     "task": false
    }
   },
   "outputs": [],
   "source": [
    "# YOUR CODE HERE\n",
    "import pandas as pd\n",
    "from sklearn.compose import ColumnTransformer\n",
    "from sklearn.impute import SimpleImputer\n",
    "from sklearn.pipeline import Pipeline\n",
    "from sklearn.preprocessing import StandardScaler, OneHotEncoder\n",
    "\n",
    "X = df.drop(columns = ['Name'])\n"
   ]
  }
 ],
 "metadata": {
  "colab": {
   "collapsed_sections": [],
   "name": "Session I.ipynb",
   "provenance": []
  },
  "kernelspec": {
   "display_name": "Python 3 (ipykernel)",
   "language": "python",
   "name": "python3"
  },
  "language_info": {
   "codemirror_mode": {
    "name": "ipython",
    "version": 3
   },
   "file_extension": ".py",
   "mimetype": "text/x-python",
   "name": "python",
   "nbconvert_exporter": "python",
   "pygments_lexer": "ipython3",
   "version": "3.12.4"
  }
 },
 "nbformat": 4,
 "nbformat_minor": 4
}
